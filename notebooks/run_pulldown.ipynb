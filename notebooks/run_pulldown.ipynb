{
 "cells": [
  {
   "cell_type": "code",
   "execution_count": 1,
   "metadata": {},
   "outputs": [
    {
     "name": "stdout",
     "output_type": "stream",
     "text": [
      "compute-e-16-230.o2.rc.hms.harvard.edu\n",
      "HSM Computational partition detected.\n",
      "/n/groups/reich/hringbauer/git/y_chrom\n",
      "CPU Count: 28\n",
      "3.7.4 (default, Sep 11 2019, 11:24:51) \n",
      "[GCC 6.2.0]\n"
     ]
    }
   ],
   "source": [
    "import numpy as np\n",
    "import os  # For Saving to Folder\n",
    "import pandas as pd\n",
    "import matplotlib.pyplot as plt\n",
    "\n",
    "import socket\n",
    "import os as os\n",
    "import sys as sys\n",
    "import multiprocessing as mp\n",
    "\n",
    "### For Arial Font\n",
    "from matplotlib import rcParams\n",
    "rcParams['font.family'] = 'sans-serif'   # Set the defaul\n",
    "### Make sure to have the font installed (it is on cluster for Harald)\n",
    "rcParams['font.sans-serif'] = ['Arial']\n",
    "\n",
    "socket_name = socket.gethostname()\n",
    "print(socket_name)\n",
    "\n",
    "if socket_name.startswith(\"compute-\"):\n",
    "    print(\"HSM Computational partition detected.\")\n",
    "    path = \"/n/groups/reich/hringbauer/git/y_chrom/\"  # The Path on Midway Cluster\n",
    "else:\n",
    "    raise RuntimeWarning(\"Not compatible machine. Check!!\")\n",
    "\n",
    "os.chdir(path)  # Set the right Path (in line with Atom default)\n",
    "# Show the current working directory. Should be HAPSBURG/Notebooks/ParallelRuns\n",
    "print(os.getcwd())\n",
    "print(f\"CPU Count: {mp.cpu_count()}\")\n",
    "print(sys.version)"
   ]
  },
  {
   "cell_type": "markdown",
   "metadata": {},
   "source": [
    "### Code to run the Pulldown"
   ]
  },
  {
   "cell_type": "code",
   "execution_count": 2,
   "metadata": {},
   "outputs": [],
   "source": [
    "### Default Parameter Dictionary\n",
    "par_dc = {\"BASE\": \"/n/groups/reich/matt/pipeline/static\",\n",
    "          \"SAMP\": \"FILL_IN\",\n",
    "          \"D2\": \"./output\",\n",
    "          \"indivname\": \"/n/groups/reich/hringbauer/explore_ntbk/v42/V42.3/v42.3.ind\",\n",
    "          \"snpname\": \"/n/groups/reich/matt/pipeline/static/1240kSNP.snp\",\n",
    "          \"bamname\": \"FILL_IN\",\n",
    "          \"threshtable\": \"/n/groups/reich/matt/pipeline/static/pulldown_thresholds\",       \n",
    "          \"defstring\": \"capture_half\",\n",
    "          \"readbam\": \"/n/groups/reich/matt/pipeline/static/readbam\",\n",
    "          \"oldpullmode\": \"YES\",\n",
    "          \"sampname\": \"SAMP\",\n",
    "          \"printcount\": \"NO\",\n",
    "          \"majmode\": \"NO\",\n",
    "          \"rgonly\": \"NO\",\n",
    "          \"chrom\": \"24\",\n",
    "          \"readdepthname\": \"/n/groups/reich/hringbauer/git/y_chrom/output/SAMP.txt\"\n",
    "          }\n",
    "\n",
    "### The anno file to look stuff up in\n",
    "anno_path = \"/n/groups/reich/hringbauer/explore_ntbk/v42/V42.3/v42.3.anno\"\n",
    "df = pd.read_csv(anno_path, sep='\\t', low_memory=False)"
   ]
  },
  {
   "cell_type": "code",
   "execution_count": 9,
   "metadata": {},
   "outputs": [],
   "source": [
    "def create_parfile_from_ref(df, iid,\n",
    "                            par_dc, \n",
    "                            savepath=\"/n/groups/reich/hringbauer/git/y_chrom/parfiles/\"):\n",
    "    \"\"\"Create a new parfile from reference dataframe df\n",
    "    iid: What individual to prepare\n",
    "    savepath: Where to save the new parfile to\"\"\"\n",
    "    bam_path = extram_bam_df(df, iid=iid)\n",
    "    savepath = create_parfile(par_dc, sample=iid, bam_path=bam_path,\n",
    "                   savepath=savepath)\n",
    "    return savepath\n",
    "\n",
    "def create_parfile(par_dc, sample=\"test\", bam_path=\"\", \n",
    "                   savepath=\"/n/groups/reich/hringbauer/git/y_chrom/parfiles/\"):\n",
    "    \"\"\"Creates parfile from dictonary of Parameters\n",
    "    savepath: Where to save the parifle to\"\"\"\n",
    "    ### Modify Parameter Dictionary\n",
    "    par_dc[\"SAMP\"] = sample\n",
    "    par_dc[\"bamname\"] = bam_path\n",
    "    \n",
    "    ### Save to File\n",
    "    savepath = os.path.join(savepath,sample)\n",
    "    with open(savepath,\"w\") as f:\n",
    "        for k, v in par_dc.items():        \n",
    "            f.write(f\"{k}: {v}\\n\")\n",
    "    print(f\"Successfully saved to {savepath}\")\n",
    "    return savepath\n",
    "    \n",
    "def run_pulldown_y(path_parfile, path_bin = \"./scripts/pulldown\", output=True):\n",
    "    \"\"\"Run Pulldown via par file.\n",
    "    path_parfile: Which parfile to run\n",
    "    path_bin: Where to find the binary to run it\"\"\"\n",
    "    if output:\n",
    "        ! $path_bin -p $path_parfile\n",
    "    else:\n",
    "        ! $path_bin -p $path_parfile  > /dev/null\n",
    "    \n",
    "def extram_bam_df(df, iid,\n",
    "                 col_id = 'Instance ID (\"_all\" means includes a mix of UDG-treated and non-UDG-treated; \"_published\" distinguishes a published sample for a still-unpublished higher quality version)', \n",
    "                 col_bam='Data: autosomal bam'):\n",
    "    \"\"\"Return bam Path from Meta File\"\"\"\n",
    "    idx = (df[col_id]==iid)\n",
    "    assert(np.sum(idx)>0) \n",
    "    bam_path = df.loc[idx, col_bam].values[0]\n",
    "    \n",
    "    return bam_path"
   ]
  },
  {
   "cell_type": "markdown",
   "metadata": {},
   "source": [
    "### Single Individual Run"
   ]
  },
  {
   "cell_type": "code",
   "execution_count": 27,
   "metadata": {},
   "outputs": [
    {
     "name": "stdout",
     "output_type": "stream",
     "text": [
      "Successfully saved to /n/groups/reich/hringbauer/git/y_chrom/parfiles/I11999\n"
     ]
    }
   ],
   "source": [
    "savepath = create_parfile_from_ref(df=df, iid=\"I11999\",\n",
    "                        par_dc=par_dc)"
   ]
  },
  {
   "cell_type": "code",
   "execution_count": null,
   "metadata": {},
   "outputs": [],
   "source": [
    "%%time\n",
    "### Produce Lots of Output (toggled)\n",
    "run_pulldown_y(path_parfile=savepath)"
   ]
  },
  {
   "cell_type": "markdown",
   "metadata": {},
   "source": [
    "### Do Multiple Individuals"
   ]
  },
  {
   "cell_type": "code",
   "execution_count": 24,
   "metadata": {},
   "outputs": [
    {
     "name": "stdout",
     "output_type": "stream",
     "text": [
      "Doing I7116\n",
      "Successfully saved to /n/groups/reich/hringbauer/git/y_chrom/parfiles/I7116\n",
      "/home/np29/o2bin/samtools view /n/data1/hms/genetics/reich/1000Genomes/amh_samples/ancientMergeSets__CAPTURE/C-per_sample_versions/I7116/v0027.3__2017_12_07/merged/by_chr/ Y \n",
      "[E::hts_open_format] Failed to open file /n/data1/hms/genetics/reich/1000Genomes/amh_samples/ancientMergeSets__CAPTURE/C-per_sample_versions/I7116/v0027.3__2017_12_07/merged/by_chr/\n",
      "samtools view: failed to open \"/n/data1/hms/genetics/reich/1000Genomes/amh_samples/ancientMergeSets__CAPTURE/C-per_sample_versions/I7116/v0027.3__2017_12_07/merged/by_chr/\" for reading: Permission denied\n"
     ]
    }
   ],
   "source": [
    "#iids = [\"I7116\", \"I7121\", \"I7120\"]  # African R1b\n",
    "#iids = [\"R6.SG\", \"I18872\", \"I15941\",\"I8016\",\"I6752\", \"I16339\", \"I14337\", \"I8057\"] #R1b-V88 canditates\n",
    "iids = [\"I7116\"]\n",
    "\n",
    "for iid in iids:\n",
    "    print(f\"Doing {iid}\")\n",
    "    savepath = create_parfile_from_ref(df=df, iid=iid,\n",
    "                            par_dc=par_dc)\n",
    "    \n",
    "    run_pulldown_y(path_parfile=savepath, output=False)"
   ]
  },
  {
   "cell_type": "markdown",
   "metadata": {},
   "source": [
    "# Area 51"
   ]
  },
  {
   "cell_type": "code",
   "execution_count": null,
   "metadata": {},
   "outputs": [],
   "source": [
    "### Print old Parfile\n",
    "path = df1['Data: pulldown logfile location'].values[0]\n",
    "file = open(path,mode='r')\n",
    "txt = file.read()\n",
    "print(txt)"
   ]
  }
 ],
 "metadata": {
  "kernelspec": {
   "display_name": "Python 3",
   "language": "python",
   "name": "python3"
  },
  "language_info": {
   "codemirror_mode": {
    "name": "ipython",
    "version": 3
   },
   "file_extension": ".py",
   "mimetype": "text/x-python",
   "name": "python",
   "nbconvert_exporter": "python",
   "pygments_lexer": "ipython3",
   "version": "3.7.4"
  }
 },
 "nbformat": 4,
 "nbformat_minor": 4
}
