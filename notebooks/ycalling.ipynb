{
 "cells": [
  {
   "cell_type": "markdown",
   "metadata": {},
   "source": [
    "# Functions and run the Y calling. Eventually put into Python package"
   ]
  },
  {
   "cell_type": "code",
   "execution_count": 19,
   "metadata": {},
   "outputs": [
    {
     "name": "stdout",
     "output_type": "stream",
     "text": [
      "compute-e-16-235.o2.rc.hms.harvard.edu\n",
      "HSM Computational partition detected.\n",
      "/n/groups/reich/hringbauer/git/y_chrom\n",
      "CPU Count: 28\n",
      "3.7.4 (default, Sep 11 2019, 11:24:51) \n",
      "[GCC 6.2.0]\n"
     ]
    }
   ],
   "source": [
    "import numpy as np\n",
    "import os  # For Saving to Folder\n",
    "import pandas as pd\n",
    "import matplotlib.pyplot as plt\n",
    "\n",
    "import socket\n",
    "import os as os\n",
    "import sys as sys\n",
    "import multiprocessing as mp\n",
    "\n",
    "# For Arial Font\n",
    "from matplotlib import rcParams\n",
    "rcParams['font.family'] = 'sans-serif'   # Set the defaul\n",
    "# Make sure to have the font installed (it is on cluster for Harald)\n",
    "rcParams['font.sans-serif'] = ['Arial']\n",
    "\n",
    "socket_name = socket.gethostname()\n",
    "print(socket_name)\n",
    "\n",
    "if socket_name.startswith(\"compute-\"):\n",
    "    print(\"HSM Computational partition detected.\")\n",
    "    path = \"/n/groups/reich/hringbauer/git/y_chrom/\"  # The Path on Midway Cluster\n",
    "else:\n",
    "    raise RuntimeWarning(\"Not compatible machine. Check!!\")\n",
    "\n",
    "os.chdir(path)  # Set the right Path (in line with Atom default)\n",
    "# Show the current working directory. Should be HAPSBURG/Notebooks/ParallelRuns\n",
    "print(os.getcwd())\n",
    "print(f\"CPU Count: {mp.cpu_count()}\")\n",
    "print(sys.version)"
   ]
  },
  {
   "cell_type": "code",
   "execution_count": 20,
   "metadata": {},
   "outputs": [],
   "source": [
    "################################################\n",
    "# Definitions to load Files (ISOGG and Output of Pulldown)\n",
    "\n",
    "def create_haplopath(haplogroup, rest=\"_data.csv\", haplo_folder=\"./data/isogg_19/\"):\n",
    "    \"\"\"Give back the full Path of Haplogroup data\"\"\"\n",
    "    assert(len(haplogroup) == 1)\n",
    "    path = haplo_folder + haplogroup + rest\n",
    "    return path\n",
    "\n",
    "def load_haplogroup_data(path, build=\"Build 37 #\"):\n",
    "    # Change path here depenging on what haplogroup!!!!\n",
    "    print(\"Loading: %s\" % path)\n",
    "    df_g = pd.read_csv(path, index_col=False, sep=\",\")\n",
    "    df_g = df_g.rename(columns={build: 'pos'})  # For merging\n",
    "    l = len(df_g)\n",
    "    df_g = df_g[pd.to_numeric(df_g['pos'], errors='coerce').notnull()]\n",
    "    df_g['pos'] = df_g['pos'].apply(pd.to_numeric)\n",
    "    print(\"Drop from %i to %i numerical pos rows\" % (l, len(df_g)))\n",
    "    return df_g\n",
    "\n",
    "def load_counts(path_counts, coerce=True):\n",
    "    \"\"\"Load Count file and return Dataframe\"\"\"\n",
    "    df_t = pd.read_csv(path_counts, header=None, delim_whitespace=True)\n",
    "    df_t.columns = [\"snp\", \"chr\", \"pos\", \"ref_all\", \"alt_all\",\"drop\",\"iid\",\"ref\", \"alt\"]\n",
    "    \n",
    "    if coerce:\n",
    "        for col in [\"pos\", \"ref\", \"alt\"]:\n",
    "            df_t[col] = pd.to_numeric(df_t[col], errors=\"coerce\")\n",
    "            \n",
    "    df_t = df_t.drop(columns=\"drop\")\n",
    "    return df_t\n",
    "\n",
    "################################################\n",
    "################################################\n",
    "# Functions to call Y\n",
    "\n",
    "def call_ind(df_counts, df_isogg, individual=\"\", pos=[], \n",
    "             full=False, output=True):\n",
    "    \"\"\"Check individual against all markers in df_marker.\n",
    "    Return dataframe with calls and 3 additional summary stats\n",
    "    derived: Array whether ancestral allele is coded as dervied. (for r1b)\n",
    "    individual: For which Individual to do the call (if none given use all rows).\n",
    "    pos: List of specific SNPs for which to return calls (if none return all)\"\"\"\n",
    "\n",
    "    ### Filter raws with Individual!\n",
    "    if len(individual)>0:\n",
    "        df_counts = df_counts[df_counts[\"Individual\"]==individual]\n",
    "        \n",
    "    if output:\n",
    "        print(f\"Total rows of calls: {len(df_counts)}\")\n",
    "    \n",
    "    ### Merge the two dataframes on identical positions\n",
    "    df = pd.merge(df_counts, df_isogg, on=\"pos\")\n",
    "    df.drop_duplicates(subset=\"pos\", keep='first', inplace=True)\n",
    "    \n",
    "    flip =  df[\"alt_all\"]==df[\"Mutation info\"].str[0]\n",
    "    df.loc[flip,[\"ref\", \"alt\", \"ref_all\", \"alt_all\"]]= df[[\"alt\",\"ref\", \"alt_all\", \"ref_all\"]][flip].values\n",
    "        \n",
    "    ### Extract only raws with more Alts than Refs\n",
    "    derived = (df[\"alt\"]>df[\"ref\"]) & (df[\"alt\"]>0)  # Derived Calls\n",
    "    tot_calls =  (df[\"ref\"]>0) | (df[\"alt\"]>0)       # At least one Calls\n",
    "    \n",
    "    if output==True:\n",
    "        print(f\"Markers found in Database {len(df)}\")\n",
    "        print(f\"Flipping {np.sum(flip)} SNPs for Alt Allele\")\n",
    "        print(f\"Markers witch calls {np.sum(tot_calls)}\")\n",
    "        print(f\"Frac. of Database SNPs covered: {np.sum(tot_calls) / len(df):.6f}\")\n",
    "        print(f\"Markers derived: {np.sum(derived)}\")\n",
    "    \n",
    "    if full == False:    # Only call the derived Markers\n",
    "        df_call = df[derived]\n",
    "    \n",
    "    elif full == True:   # Report the whole Status\n",
    "        df_call = df\n",
    "    \n",
    "    df_call = df_call.sort_values(by=\"Haplogroup\")\n",
    "    \n",
    "    ## Only return selected Positions if needed\n",
    "    if len(pos)>0:\n",
    "        idx = df_call[\"pos\"].isin(pos)\n",
    "        df_call = df_call[idx]\n",
    "    \n",
    "    return df_call.copy(), np.sum(derived), np.sum(tot_calls), len(df)\n",
    "\n",
    "################################################\n",
    "################################################\n",
    "# Functions to plot Y calls\n",
    "\n",
    "def pull_clade(df, haplogroup, exact=True):\n",
    "    \"\"\"Pulls a specific clade. \n",
    "    if exact=True: Has to match the exact haplogroup\"\"\"\n",
    "    if exact:\n",
    "        df_t = df[df[\"Haplogroup\"]==haplogroup]\n",
    "    else:\n",
    "        df_t = df[df[\"Haplogroup\"].str.contains(haplogroup)]\n",
    "    return df_t"
   ]
  },
  {
   "cell_type": "markdown",
   "metadata": {},
   "source": [
    "### Load ISOGG Reference Dictionary"
   ]
  },
  {
   "cell_type": "code",
   "execution_count": 21,
   "metadata": {},
   "outputs": [
    {
     "name": "stdout",
     "output_type": "stream",
     "text": [
      "Loading: ./data/isogg_19/o_data.csv\n",
      "Drop from 3459 to 3455 numerical pos rows\n",
      "Loading: ./data/isogg_19/d_data.csv\n",
      "Drop from 2595 to 2586 numerical pos rows\n",
      "Loading: ./data/isogg_19/g_data.csv\n",
      "Drop from 7503 to 7492 numerical pos rows\n",
      "Loading: ./data/isogg_19/i_data.csv\n",
      "Drop from 11246 to 11231 numerical pos rows\n",
      "Loading: ./data/isogg_19/r_data.csv\n",
      "Drop from 9763 to 9726 numerical pos rows\n",
      "Loading: ./data/isogg_19/j_data.csv\n",
      "Drop from 5947 to 5940 numerical pos rows\n",
      "Loading: ./data/isogg_19/t_data.csv\n",
      "Drop from 382 to 381 numerical pos rows\n",
      "Loading: ./data/isogg_19/e_data.csv\n",
      "Drop from 10478 to 10459 numerical pos rows\n",
      "Loading: ./data/isogg_19/h_data.csv\n",
      "Drop from 3140 to 3127 numerical pos rows\n",
      "Loading: ./data/isogg_19/c_data.csv\n",
      "Drop from 6862 to 6855 numerical pos rows\n",
      "Loading: ./data/isogg_19/l_data.csv\n",
      "Drop from 1154 to 1151 numerical pos rows\n",
      "Loading: ./data/isogg_19/n_data.csv\n",
      "Drop from 2952 to 2948 numerical pos rows\n",
      "Loading: ./data/isogg_19/p_data.csv\n",
      "Drop from 300 to 300 numerical pos rows\n",
      "Loading: ./data/isogg_19/q_data.csv\n",
      "Drop from 5377 to 5371 numerical pos rows\n"
     ]
    }
   ],
   "source": [
    "haplogroups = [\"o\", \"d\", \"g\", \"i\", \"r\", \"j\",\n",
    "               \"t\", \"e\", \"h\", \"c\", \"l\", \"n\", \"p\", \"q\"]\n",
    "haplo_paths = [create_haplopath(\n",
    "    x, haplo_folder=\"./data/isogg_19/\") for x in haplogroups]\n",
    "df_groups = [load_haplogroup_data(p) for p in haplo_paths]\n",
    "\n",
    "dict_y_dfs = dict(zip(haplogroups, df_groups))   # Create Dictionary\n",
    "# dict_y_dfs['all'] = pd.concat(df_groups)   # Add the combined one"
   ]
  },
  {
   "cell_type": "markdown",
   "metadata": {},
   "source": [
    "## Call Individual Haplogroup\n",
    "(change Name here)"
   ]
  },
  {
   "cell_type": "code",
   "execution_count": 66,
   "metadata": {},
   "outputs": [
    {
     "data": {
      "text/plain": [
       "array(['I12517', 'I18193', 'I18199', 'I18202', 'I18194', 'I18201',\n",
       "       'I18189'], dtype=object)"
      ]
     },
     "execution_count": 66,
     "metadata": {},
     "output_type": "execute_result"
    }
   ],
   "source": [
    "punic_df = pd.read_csv(\"../punic_aDNA/data/males_feb20.csv\")\n",
    "punic_df.iloc[:,0].values"
   ]
  },
  {
   "cell_type": "code",
   "execution_count": 70,
   "metadata": {},
   "outputs": [
    {
     "name": "stdout",
     "output_type": "stream",
     "text": [
      "Total rows of calls: 32670\n",
      "Markers found in Database 814\n",
      "Flipping 1 SNPs for Alt Allele\n",
      "Markers witch calls 40\n",
      "Frac. of Database SNPs covered: 0.049140\n",
      "Markers derived: 10\n"
     ]
    }
   ],
   "source": [
    "iid=\"I7259\"\n",
    "haplogroup = \"j\"\n",
    "\n",
    "path_counts = f\"./output/{iid}.txt\"\n",
    "df_counts = load_counts(path_counts)\n",
    "df_isogg = dict_y_dfs[haplogroup]\n",
    "df_call, _, _, _ = call_ind(df_counts, df_isogg, output=True, \n",
    "                            full=False)"
   ]
  },
  {
   "cell_type": "code",
   "execution_count": 72,
   "metadata": {},
   "outputs": [
    {
     "data": {
      "text/html": [
       "<div>\n",
       "<style scoped>\n",
       "    .dataframe tbody tr th:only-of-type {\n",
       "        vertical-align: middle;\n",
       "    }\n",
       "\n",
       "    .dataframe tbody tr th {\n",
       "        vertical-align: top;\n",
       "    }\n",
       "\n",
       "    .dataframe thead th {\n",
       "        text-align: right;\n",
       "    }\n",
       "</style>\n",
       "<table border=\"1\" class=\"dataframe\">\n",
       "  <thead>\n",
       "    <tr style=\"text-align: right;\">\n",
       "      <th></th>\n",
       "      <th>snp</th>\n",
       "      <th>chr</th>\n",
       "      <th>pos</th>\n",
       "      <th>ref_all</th>\n",
       "      <th>alt_all</th>\n",
       "      <th>iid</th>\n",
       "      <th>ref</th>\n",
       "      <th>alt</th>\n",
       "      <th>Name</th>\n",
       "      <th>Haplogroup</th>\n",
       "      <th>Other Names in Tree</th>\n",
       "      <th>rs #</th>\n",
       "      <th>Build 38 #</th>\n",
       "      <th>Mutation info</th>\n",
       "    </tr>\n",
       "  </thead>\n",
       "  <tbody>\n",
       "    <tr>\n",
       "      <th>108</th>\n",
       "      <td>snp_24_7065239</td>\n",
       "      <td>24</td>\n",
       "      <td>7065239</td>\n",
       "      <td>T</td>\n",
       "      <td>C</td>\n",
       "      <td>I7259</td>\n",
       "      <td>0</td>\n",
       "      <td>1</td>\n",
       "      <td>PF4505</td>\n",
       "      <td>J</td>\n",
       "      <td>YSC0000064</td>\n",
       "      <td>rs373806452</td>\n",
       "      <td>7197198</td>\n",
       "      <td>T-&gt;C</td>\n",
       "    </tr>\n",
       "    <tr>\n",
       "      <th>327</th>\n",
       "      <td>snp_24_9815201</td>\n",
       "      <td>24</td>\n",
       "      <td>9815201</td>\n",
       "      <td>T</td>\n",
       "      <td>C</td>\n",
       "      <td>I7259</td>\n",
       "      <td>0</td>\n",
       "      <td>1</td>\n",
       "      <td>PF4521</td>\n",
       "      <td>J</td>\n",
       "      <td>NaN</td>\n",
       "      <td>rs368797174</td>\n",
       "      <td>9977592</td>\n",
       "      <td>T-&gt;C</td>\n",
       "    </tr>\n",
       "    <tr>\n",
       "      <th>868</th>\n",
       "      <td>rs17222412</td>\n",
       "      <td>24</td>\n",
       "      <td>17495914</td>\n",
       "      <td>G</td>\n",
       "      <td>A</td>\n",
       "      <td>I7259</td>\n",
       "      <td>0</td>\n",
       "      <td>1</td>\n",
       "      <td>F2502</td>\n",
       "      <td>J</td>\n",
       "      <td>PF4564</td>\n",
       "      <td>rs17222412</td>\n",
       "      <td>15384034</td>\n",
       "      <td>G-&gt;A</td>\n",
       "    </tr>\n",
       "    <tr>\n",
       "      <th>262</th>\n",
       "      <td>snp_24_8432768</td>\n",
       "      <td>24</td>\n",
       "      <td>8432768</td>\n",
       "      <td>G</td>\n",
       "      <td>A</td>\n",
       "      <td>I7259</td>\n",
       "      <td>0</td>\n",
       "      <td>1</td>\n",
       "      <td>Y1422.1</td>\n",
       "      <td>J2b</td>\n",
       "      <td>Z8214.1</td>\n",
       "      <td>rs369289787</td>\n",
       "      <td>8564727</td>\n",
       "      <td>G-&gt;A</td>\n",
       "    </tr>\n",
       "    <tr>\n",
       "      <th>286</th>\n",
       "      <td>snp_24_8527247</td>\n",
       "      <td>24</td>\n",
       "      <td>8527247</td>\n",
       "      <td>G</td>\n",
       "      <td>A</td>\n",
       "      <td>I7259</td>\n",
       "      <td>0</td>\n",
       "      <td>1</td>\n",
       "      <td>Z2483</td>\n",
       "      <td>J2b</td>\n",
       "      <td>NaN</td>\n",
       "      <td>rs376725687</td>\n",
       "      <td>8659206</td>\n",
       "      <td>G-&gt;A</td>\n",
       "    </tr>\n",
       "    <tr>\n",
       "      <th>569</th>\n",
       "      <td>snp_24_15610489</td>\n",
       "      <td>24</td>\n",
       "      <td>15610489</td>\n",
       "      <td>G</td>\n",
       "      <td>A</td>\n",
       "      <td>I7259</td>\n",
       "      <td>0</td>\n",
       "      <td>1</td>\n",
       "      <td>CTS4359</td>\n",
       "      <td>J2b</td>\n",
       "      <td>PF7293; Z2417</td>\n",
       "      <td>rs375442273</td>\n",
       "      <td>13498609</td>\n",
       "      <td>G-&gt;A</td>\n",
       "    </tr>\n",
       "    <tr>\n",
       "      <th>604</th>\n",
       "      <td>snp_24_15740097</td>\n",
       "      <td>24</td>\n",
       "      <td>15740097</td>\n",
       "      <td>C</td>\n",
       "      <td>A</td>\n",
       "      <td>I7259</td>\n",
       "      <td>0</td>\n",
       "      <td>1</td>\n",
       "      <td>Z537</td>\n",
       "      <td>J2b</td>\n",
       "      <td>NaN</td>\n",
       "      <td>rs373683386</td>\n",
       "      <td>13628217</td>\n",
       "      <td>C-&gt;A</td>\n",
       "    </tr>\n",
       "    <tr>\n",
       "      <th>933</th>\n",
       "      <td>snp_24_17930928</td>\n",
       "      <td>24</td>\n",
       "      <td>17930928</td>\n",
       "      <td>T</td>\n",
       "      <td>C</td>\n",
       "      <td>I7259</td>\n",
       "      <td>0</td>\n",
       "      <td>1</td>\n",
       "      <td>CTS8314</td>\n",
       "      <td>J2b</td>\n",
       "      <td>PF7287; Z2491</td>\n",
       "      <td>rs372114377</td>\n",
       "      <td>15819048</td>\n",
       "      <td>T-&gt;C</td>\n",
       "    </tr>\n",
       "    <tr>\n",
       "      <th>501</th>\n",
       "      <td>rs8179022</td>\n",
       "      <td>24</td>\n",
       "      <td>15018459</td>\n",
       "      <td>G</td>\n",
       "      <td>A</td>\n",
       "      <td>I7259</td>\n",
       "      <td>0</td>\n",
       "      <td>1</td>\n",
       "      <td>M241</td>\n",
       "      <td>J2b2a</td>\n",
       "      <td>NaN</td>\n",
       "      <td>rs8179022</td>\n",
       "      <td>12906548</td>\n",
       "      <td>G-&gt;A</td>\n",
       "    </tr>\n",
       "    <tr>\n",
       "      <th>585</th>\n",
       "      <td>snp_24_15635257</td>\n",
       "      <td>24</td>\n",
       "      <td>15635257</td>\n",
       "      <td>C</td>\n",
       "      <td>T</td>\n",
       "      <td>I7259</td>\n",
       "      <td>0</td>\n",
       "      <td>1</td>\n",
       "      <td>AM01362</td>\n",
       "      <td>J2b2a~</td>\n",
       "      <td>CTS4412; Z2390</td>\n",
       "      <td>rs370252923</td>\n",
       "      <td>13523377</td>\n",
       "      <td>C-&gt;T</td>\n",
       "    </tr>\n",
       "  </tbody>\n",
       "</table>\n",
       "</div>"
      ],
      "text/plain": [
       "                 snp  chr       pos ref_all alt_all    iid  ref  alt     Name  \\\n",
       "108   snp_24_7065239   24   7065239       T       C  I7259    0    1   PF4505   \n",
       "327   snp_24_9815201   24   9815201       T       C  I7259    0    1   PF4521   \n",
       "868       rs17222412   24  17495914       G       A  I7259    0    1    F2502   \n",
       "262   snp_24_8432768   24   8432768       G       A  I7259    0    1  Y1422.1   \n",
       "286   snp_24_8527247   24   8527247       G       A  I7259    0    1    Z2483   \n",
       "569  snp_24_15610489   24  15610489       G       A  I7259    0    1  CTS4359   \n",
       "604  snp_24_15740097   24  15740097       C       A  I7259    0    1     Z537   \n",
       "933  snp_24_17930928   24  17930928       T       C  I7259    0    1  CTS8314   \n",
       "501        rs8179022   24  15018459       G       A  I7259    0    1     M241   \n",
       "585  snp_24_15635257   24  15635257       C       T  I7259    0    1  AM01362   \n",
       "\n",
       "    Haplogroup Other Names in Tree         rs # Build 38 # Mutation info  \n",
       "108          J          YSC0000064  rs373806452    7197198          T->C  \n",
       "327          J                 NaN  rs368797174    9977592          T->C  \n",
       "868          J              PF4564   rs17222412   15384034          G->A  \n",
       "262        J2b             Z8214.1  rs369289787    8564727          G->A  \n",
       "286        J2b                 NaN  rs376725687    8659206          G->A  \n",
       "569        J2b       PF7293; Z2417  rs375442273   13498609          G->A  \n",
       "604        J2b                 NaN  rs373683386   13628217          C->A  \n",
       "933        J2b       PF7287; Z2491  rs372114377   15819048          T->C  \n",
       "501      J2b2a                 NaN    rs8179022   12906548          G->A  \n",
       "585     J2b2a~      CTS4412; Z2390  rs370252923   13523377          C->T  "
      ]
     },
     "execution_count": 72,
     "metadata": {},
     "output_type": "execute_result"
    }
   ],
   "source": [
    "df_call[-50:]"
   ]
  },
  {
   "cell_type": "code",
   "execution_count": 82,
   "metadata": {},
   "outputs": [
    {
     "data": {
      "text/plain": [
       "37"
      ]
     },
     "execution_count": 82,
     "metadata": {},
     "output_type": "execute_result"
    }
   ],
   "source": [
    "len(pull_clade(df_call, \"R1b1b\", exact=True))"
   ]
  },
  {
   "cell_type": "markdown",
   "metadata": {},
   "source": [
    "# Run all Haplogroups"
   ]
  },
  {
   "cell_type": "code",
   "execution_count": null,
   "metadata": {},
   "outputs": [],
   "source": [
    "%%time\n",
    "iid=\"I16339\"\n",
    "for h in haplogroups:\n",
    "\n",
    "#print(f\"\\nCalling {haplogroup}\")\n",
    "    print(f\"\\nDoing Haplogroup: {h}\")\n",
    "    path_counts = f\"./output/{iid}.txt\"\n",
    "    df_counts = load_counts(path_counts)\n",
    "    df_isogg = dict_y_dfs[h]\n",
    "    df_call, _, _, _ = call_ind(df_counts, df_isogg, output=True, \n",
    "                                full=False)"
   ]
  },
  {
   "cell_type": "markdown",
   "metadata": {},
   "source": [
    "# Area 51"
   ]
  },
  {
   "cell_type": "code",
   "execution_count": 8,
   "metadata": {},
   "outputs": [],
   "source": [
    "df_t = load_counts(\"./output/I0410.txt\")"
   ]
  },
  {
   "cell_type": "code",
   "execution_count": 20,
   "metadata": {},
   "outputs": [
    {
     "data": {
      "text/plain": [
       "0"
      ]
     },
     "execution_count": 20,
     "metadata": {},
     "output_type": "execute_result"
    }
   ],
   "source": [
    "np.sum(df_t[\"ref\"]>0)"
   ]
  },
  {
   "cell_type": "code",
   "execution_count": 62,
   "metadata": {},
   "outputs": [
    {
     "data": {
      "text/plain": [
       "15"
      ]
     },
     "execution_count": 62,
     "metadata": {},
     "output_type": "execute_result"
    }
   ],
   "source": [
    "idx = df_isogg[\"Haplogroup\"]==\"R1b1a1b1b\"\n",
    "np.sum(idx)"
   ]
  },
  {
   "cell_type": "code",
   "execution_count": null,
   "metadata": {},
   "outputs": [],
   "source": []
  }
 ],
 "metadata": {
  "kernelspec": {
   "display_name": "Python 3",
   "language": "python",
   "name": "python3"
  },
  "language_info": {
   "codemirror_mode": {
    "name": "ipython",
    "version": 3
   },
   "file_extension": ".py",
   "mimetype": "text/x-python",
   "name": "python",
   "nbconvert_exporter": "python",
   "pygments_lexer": "ipython3",
   "version": "3.7.4"
  }
 },
 "nbformat": 4,
 "nbformat_minor": 4
}
