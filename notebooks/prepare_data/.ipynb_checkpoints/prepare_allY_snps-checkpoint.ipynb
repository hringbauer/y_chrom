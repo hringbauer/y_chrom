{
 "cells": [
  {
   "cell_type": "code",
   "execution_count": 1,
   "metadata": {},
   "outputs": [
    {
     "name": "stdout",
     "output_type": "stream",
     "text": [
      "compute-a-17-122.o2.rc.hms.harvard.edu\n",
      "HSM Computational partition detected.\n",
      "/n/groups/reich/hringbauer/git/y_chrom\n",
      "CPU Count: 32\n",
      "3.7.4 (default, Sep 11 2019, 11:24:51) \n",
      "[GCC 6.2.0]\n"
     ]
    }
   ],
   "source": [
    "import numpy as np\n",
    "import os  # For Saving to Folder\n",
    "import pandas as pd\n",
    "import matplotlib.pyplot as plt\n",
    "\n",
    "import socket\n",
    "import os as os\n",
    "import sys as sys\n",
    "import multiprocessing as mp\n",
    "\n",
    "### For Arial Font\n",
    "from matplotlib import rcParams\n",
    "rcParams['font.family'] = 'sans-serif'   # Set the defaul\n",
    "### Make sure to have the font installed (it is on cluster for Harald)\n",
    "rcParams['font.sans-serif'] = ['Arial']\n",
    "\n",
    "socket_name = socket.gethostname()\n",
    "print(socket_name)\n",
    "\n",
    "if socket_name.startswith(\"compute-\"):\n",
    "    print(\"HSM Computational partition detected.\")\n",
    "    path = \"/n/groups/reich/hringbauer/git/y_chrom/\"  # The Path on Midway Cluster\n",
    "else:\n",
    "    raise RuntimeWarning(\"Not compatible machine. Check!!\")\n",
    "\n",
    "os.chdir(path)  # Set the right Path (in line with Atom default)\n",
    "# Show the current working directory. Should be HAPSBURG/Notebooks/ParallelRuns\n",
    "print(os.getcwd())\n",
    "print(f\"CPU Count: {mp.cpu_count()}\")\n",
    "print(sys.version)"
   ]
  },
  {
   "cell_type": "markdown",
   "metadata": {},
   "source": [
    "### Load all ISOGG Y SNPs"
   ]
  },
  {
   "cell_type": "code",
   "execution_count": 2,
   "metadata": {},
   "outputs": [],
   "source": [
    "path_snps = \"./data/all_snps.csv\"\n",
    "col_pos = 'Build 37 Number'\n",
    "\n",
    "def create_df_y_all(path_snps = \"./data/all_snps.csv\", \n",
    "                    col_pos = 'Build 37 Number'):\n",
    "    \"\"\"Return Dataframe in Eigenstrat Format,\n",
    "    filtered for biallelic SNPs\"\"\"\n",
    "    df_raw = pd.read_csv(path_snps)\n",
    "    print(f\"Loaded {len(df_raw)} SNPs\")\n",
    "\n",
    "    ### Process the positions\n",
    "    pos = df_raw[col_pos]\n",
    "    df_raw[\"pos\"] = pd.to_numeric(pos, errors=\"coerce\")\n",
    "\n",
    "    idx = ~df_raw[\"pos\"].isna()\n",
    "    print(f\"# Positions available: {np.sum(idx)}\")\n",
    "    df = df_raw[idx].reset_index(drop=True)\n",
    "    df[\"pos\"]=df[\"pos\"].astype(\"int\")\n",
    "\n",
    "    idx_bi= (df[\"Mutation Info\"].str.len()==4)\n",
    "    print(f\"# Biallelic SNPs: {np.sum(idx_bi)}\")\n",
    "    df = df[idx_bi].reset_index(drop=True)\n",
    "    df[\"ref\"] = df[\"Mutation Info\"].str[0]\n",
    "    df[\"alt\"] = df[\"Mutation Info\"].str[3]\n",
    "    df[\"map\"] = 0\n",
    "    df[\"chrom\"] = 24\n",
    "\n",
    "    cols = [\"Name\", \"chrom\", \"map\", \"pos\", \"ref\", \"alt\"]\n",
    "    df = df[cols]\n",
    "    df = df.replace(regex=[' ','\\n'], value='_')\n",
    "    ### Sort by position\n",
    "    df = df.sort_values(by=\"pos\")\n",
    "    \n",
    "    ### Keep only SNPs where Ref and Alt Different\n",
    "    idx_same = (df[\"ref\"]==df[\"alt\"])\n",
    "    df = df[~idx_same]\n",
    "    print(f\"# Ref & Alt different: {len(df)}\")\n",
    "    \n",
    "    ### Keep only ACTG\n",
    "    snps_acceptable = [\"A\", \"C\", \"T\", \"G\"]\n",
    "    idx_ref = df[\"ref\"].isin(snps_acceptable)\n",
    "    idx_alt = df[\"alt\"].isin(snps_acceptable)\n",
    "    idx_both = idx_ref & idx_alt\n",
    "    df = df[idx_both]\n",
    "    print(f\"# Ref & Alt ACTG: {len(df)}\")\n",
    "    \n",
    "    ### Keep Unique Values\n",
    "    idx_dup = df.duplicated(subset=\"pos\", keep=\"first\")\n",
    "    df = df[~idx_dup]\n",
    "    print(f\"# Unique SNP positions: {len(df)}\")\n",
    "    \n",
    "    ### Remove duplicate Names\n",
    "    idx_dup = df.duplicated(subset=\"Name\", keep=False)\n",
    "    df = df[~idx_dup]\n",
    "    print(f\"# Unique Names: {len(df)}\")\n",
    "    return df\n",
    "\n",
    "\n",
    "def save_eigenstrat(df_save, path_save = \"./data/eigenstrat/y_snps_all2020.snp\"):\n",
    "    \"\"\"Save Eigenstrat Dataframe\"\"\"\n",
    "    assert(len(df_save.columns)==6)\n",
    "    df_save.to_csv(path_save, sep=\" \", header=None, index=False)\n",
    "    print(f\"Saved {len(df_save)} Y SNPs to {path_save}\")"
   ]
  },
  {
   "cell_type": "code",
   "execution_count": 3,
   "metadata": {},
   "outputs": [
    {
     "name": "stdout",
     "output_type": "stream",
     "text": [
      "Loaded 92035 SNPs\n",
      "# Positions available: 91881\n",
      "# Biallelic SNPs: 91814\n",
      "# Ref & Alt different: 91811\n",
      "# Ref & Alt ACTG: 91806\n",
      "# Unique SNP positions: 72951\n",
      "# Unique Names: 72933\n",
      "CPU times: user 1.55 s, sys: 54.3 ms, total: 1.61 s\n",
      "Wall time: 1.6 s\n"
     ]
    }
   ],
   "source": [
    "%%time\n",
    "df_save = create_df_y_all(path_snps = \"./data/all_snps.csv\", col_pos = 'Build 37 Number')"
   ]
  },
  {
   "cell_type": "markdown",
   "metadata": {},
   "source": [
    "### Save Eigenstrat"
   ]
  },
  {
   "cell_type": "code",
   "execution_count": 25,
   "metadata": {},
   "outputs": [
    {
     "name": "stdout",
     "output_type": "stream",
     "text": [
      "Saved 72933 Y SNPs to ./data/eigenstrat/y_snps_all2020.snp\n"
     ]
    }
   ],
   "source": [
    "save_eigenstrat(df_save, path_save = \"./data/eigenstrat/y_snps_all2020.snp\")"
   ]
  },
  {
   "cell_type": "markdown",
   "metadata": {},
   "source": [
    "# Add in in the special O SNPs"
   ]
  },
  {
   "cell_type": "code",
   "execution_count": 29,
   "metadata": {},
   "outputs": [],
   "source": [
    "def load_om117(path):\n",
    "    \"\"\"Return Dataframe with O-M117 Data\"\"\"\n",
    "    df_t = pd.read_csv(path, index_col=False, sep=\",\")\n",
    "    l = len(df_t)\n",
    "    df_t = df_t.rename(columns = {'POS':'pos'})  # For merging\n",
    "    df_t = df_t[pd.to_numeric(df_t['pos'], errors='coerce').notnull()]\n",
    "    df_t['pos'] = df_t['pos'].apply(pd.to_numeric)\n",
    "    print(\"Drop from %i to %i numerical pos rows\" % (l,len(df_t)))\n",
    "    return df_t\n",
    "\n",
    "def create_snp_df(df):\n",
    "    \"\"\"Creates a eigenstrat SNP dataframe\n",
    "    from existing Y dataframe (formatted)\"\"\"    \n",
    "    dct = {\"Name\":df[\"SNP\"].values,\n",
    "          \"chrom\":24,\n",
    "          \"map\":0,\n",
    "          \"pos\":df[\"pos\"].values,\n",
    "          \"ref\":df[\"REF\"].values,\n",
    "          \"alt\":df[\"ALT\"].values}\n",
    "    df1 = pd.DataFrame(dct)\n",
    "    return df1\n",
    "\n",
    "def merge_es_ds(df1,df2):\n",
    "    \"\"\"Merge two eigenstrat dataframes.\n",
    "    Return, sorted (by pos), unique (pos) dataframe\"\"\"\n",
    "    df_m = pd.concat([df1, df2])\n",
    "    l=len(df_m)\n",
    "    df_m = df_m.drop_duplicates('pos').reset_index(drop=True)\n",
    "    print(f\"Merged to {l} rows.\\n{len(df_m)} unique row\")\n",
    "    df_m = df_m.sort_values(by=\"pos\") # Sort by position\n",
    "    return df_m"
   ]
  },
  {
   "cell_type": "code",
   "execution_count": 30,
   "metadata": {},
   "outputs": [
    {
     "name": "stdout",
     "output_type": "stream",
     "text": [
      "Drop from 984 to 984 numerical pos rows\n"
     ]
    }
   ],
   "source": [
    "### Load O SNPs\n",
    "df117 = load_om117(\"../tibet_aDNA/Data/o2-m117SNPs.csv\")\n",
    "df117_es = create_snp_df(df117) # Transform into eigenstrat format\n",
    "#pd.merge(df117_es, df_save, on=\"pos\") # For sanity check (check REF/ALTs)"
   ]
  },
  {
   "cell_type": "code",
   "execution_count": 42,
   "metadata": {},
   "outputs": [
    {
     "name": "stdout",
     "output_type": "stream",
     "text": [
      "Merged to 73917 rows.\n",
      "73680 unique row\n"
     ]
    }
   ],
   "source": [
    "df_save2 = merge_es_ds(df_save, df117_es)\n",
    "df_save2 = df_save2.replace(np.nan, 'NAN', regex=True)"
   ]
  },
  {
   "cell_type": "code",
   "execution_count": 44,
   "metadata": {},
   "outputs": [
    {
     "name": "stdout",
     "output_type": "stream",
     "text": [
      "Saved 73680 Y SNPs to ./data/eigenstrat/y_snps_all2020_vO.snp\n"
     ]
    }
   ],
   "source": [
    "### Save the full SNP dataframe\n",
    "save_eigenstrat(df_save2, path_save = \"./data/eigenstrat/y_snps_all2020_vO.snp\")"
   ]
  },
  {
   "cell_type": "markdown",
   "metadata": {},
   "source": [
    "# Area 51"
   ]
  },
  {
   "cell_type": "markdown",
   "metadata": {},
   "source": [
    "### Load typical SNP file"
   ]
  },
  {
   "cell_type": "code",
   "execution_count": 34,
   "metadata": {},
   "outputs": [],
   "source": [
    "path_snp = \"/n/groups/reich/hringbauer/git/punic_aDNA/eigenstrat/punic0.v43.snp\"\n",
    "df_snp0 = pd.read_csv(path_snp, delim_whitespace=True, header=None)\n",
    "df_snp0.columns = [\"snp\", \"chr\", \"map\", \"pos\", \"ref\", \"alt\"]\n",
    "df_1240k = df_snp0[df_snp0[\"chr\"]==24]"
   ]
  },
  {
   "cell_type": "code",
   "execution_count": 36,
   "metadata": {},
   "outputs": [
    {
     "data": {
      "text/html": [
       "<div>\n",
       "<style scoped>\n",
       "    .dataframe tbody tr th:only-of-type {\n",
       "        vertical-align: middle;\n",
       "    }\n",
       "\n",
       "    .dataframe tbody tr th {\n",
       "        vertical-align: top;\n",
       "    }\n",
       "\n",
       "    .dataframe thead th {\n",
       "        text-align: right;\n",
       "    }\n",
       "</style>\n",
       "<table border=\"1\" class=\"dataframe\">\n",
       "  <thead>\n",
       "    <tr style=\"text-align: right;\">\n",
       "      <th></th>\n",
       "      <th>snp</th>\n",
       "      <th>chr</th>\n",
       "      <th>map</th>\n",
       "      <th>pos</th>\n",
       "      <th>ref</th>\n",
       "      <th>alt</th>\n",
       "    </tr>\n",
       "  </thead>\n",
       "  <tbody>\n",
       "    <tr>\n",
       "      <th>1200343</th>\n",
       "      <td>M288</td>\n",
       "      <td>24</td>\n",
       "      <td>0.0</td>\n",
       "      <td>2649694</td>\n",
       "      <td>G</td>\n",
       "      <td>T</td>\n",
       "    </tr>\n",
       "    <tr>\n",
       "      <th>1200344</th>\n",
       "      <td>M236</td>\n",
       "      <td>24</td>\n",
       "      <td>0.0</td>\n",
       "      <td>2649696</td>\n",
       "      <td>C</td>\n",
       "      <td>G</td>\n",
       "    </tr>\n",
       "  </tbody>\n",
       "</table>\n",
       "</div>"
      ],
      "text/plain": [
       "          snp  chr  map      pos ref alt\n",
       "1200343  M288   24  0.0  2649694   G   T\n",
       "1200344  M236   24  0.0  2649696   C   G"
      ]
     },
     "execution_count": 36,
     "metadata": {},
     "output_type": "execute_result"
    }
   ],
   "source": [
    "df_1240k.head(2)"
   ]
  },
  {
   "cell_type": "markdown",
   "metadata": {},
   "source": [
    "### Load File Produce here"
   ]
  },
  {
   "cell_type": "code",
   "execution_count": 37,
   "metadata": {},
   "outputs": [],
   "source": [
    "path_snp = \"/n/groups/reich/hringbauer/git/y_chrom/data/eigenstrat/y_snps_all2020_vO.snp\"\n",
    "df_snp = pd.read_csv(path_snp, delim_whitespace=True, header=None)\n",
    "df_snp.columns = [\"snp\", \"chr\", \"map\", \"pos\", \"ref\", \"alt\"]"
   ]
  },
  {
   "cell_type": "code",
   "execution_count": 38,
   "metadata": {},
   "outputs": [
    {
     "data": {
      "text/html": [
       "<div>\n",
       "<style scoped>\n",
       "    .dataframe tbody tr th:only-of-type {\n",
       "        vertical-align: middle;\n",
       "    }\n",
       "\n",
       "    .dataframe tbody tr th {\n",
       "        vertical-align: top;\n",
       "    }\n",
       "\n",
       "    .dataframe thead th {\n",
       "        text-align: right;\n",
       "    }\n",
       "</style>\n",
       "<table border=\"1\" class=\"dataframe\">\n",
       "  <thead>\n",
       "    <tr style=\"text-align: right;\">\n",
       "      <th></th>\n",
       "      <th>snp</th>\n",
       "      <th>chr</th>\n",
       "      <th>map</th>\n",
       "      <th>pos</th>\n",
       "      <th>ref</th>\n",
       "      <th>alt</th>\n",
       "    </tr>\n",
       "  </thead>\n",
       "  <tbody>\n",
       "    <tr>\n",
       "      <th>0</th>\n",
       "      <td>M288</td>\n",
       "      <td>24</td>\n",
       "      <td>0</td>\n",
       "      <td>2649694</td>\n",
       "      <td>G</td>\n",
       "      <td>T</td>\n",
       "    </tr>\n",
       "    <tr>\n",
       "      <th>1</th>\n",
       "      <td>M236</td>\n",
       "      <td>24</td>\n",
       "      <td>0</td>\n",
       "      <td>2649696</td>\n",
       "      <td>C</td>\n",
       "      <td>G</td>\n",
       "    </tr>\n",
       "    <tr>\n",
       "      <th>2</th>\n",
       "      <td>FGC17344</td>\n",
       "      <td>24</td>\n",
       "      <td>0</td>\n",
       "      <td>2650033</td>\n",
       "      <td>G</td>\n",
       "      <td>A</td>\n",
       "    </tr>\n",
       "    <tr>\n",
       "      <th>3</th>\n",
       "      <td>MF2464</td>\n",
       "      <td>24</td>\n",
       "      <td>0</td>\n",
       "      <td>2650045</td>\n",
       "      <td>A</td>\n",
       "      <td>G</td>\n",
       "    </tr>\n",
       "    <tr>\n",
       "      <th>4</th>\n",
       "      <td>Z21583^</td>\n",
       "      <td>24</td>\n",
       "      <td>0</td>\n",
       "      <td>2650102</td>\n",
       "      <td>C</td>\n",
       "      <td>A</td>\n",
       "    </tr>\n",
       "    <tr>\n",
       "      <th>...</th>\n",
       "      <td>...</td>\n",
       "      <td>...</td>\n",
       "      <td>...</td>\n",
       "      <td>...</td>\n",
       "      <td>...</td>\n",
       "      <td>...</td>\n",
       "    </tr>\n",
       "    <tr>\n",
       "      <th>73675</th>\n",
       "      <td>BY151778^^</td>\n",
       "      <td>24</td>\n",
       "      <td>0</td>\n",
       "      <td>28804842</td>\n",
       "      <td>G</td>\n",
       "      <td>T</td>\n",
       "    </tr>\n",
       "    <tr>\n",
       "      <th>73676</th>\n",
       "      <td>ZW09</td>\n",
       "      <td>24</td>\n",
       "      <td>0</td>\n",
       "      <td>28804948</td>\n",
       "      <td>A</td>\n",
       "      <td>T</td>\n",
       "    </tr>\n",
       "    <tr>\n",
       "      <th>73677</th>\n",
       "      <td>Z16041</td>\n",
       "      <td>24</td>\n",
       "      <td>0</td>\n",
       "      <td>28804953</td>\n",
       "      <td>G</td>\n",
       "      <td>A</td>\n",
       "    </tr>\n",
       "    <tr>\n",
       "      <th>73678</th>\n",
       "      <td>FT213868^^</td>\n",
       "      <td>24</td>\n",
       "      <td>0</td>\n",
       "      <td>28807842</td>\n",
       "      <td>T</td>\n",
       "      <td>C</td>\n",
       "    </tr>\n",
       "    <tr>\n",
       "      <th>73679</th>\n",
       "      <td>FT106477</td>\n",
       "      <td>24</td>\n",
       "      <td>0</td>\n",
       "      <td>28811597</td>\n",
       "      <td>G</td>\n",
       "      <td>A</td>\n",
       "    </tr>\n",
       "  </tbody>\n",
       "</table>\n",
       "<p>73680 rows × 6 columns</p>\n",
       "</div>"
      ],
      "text/plain": [
       "              snp  chr  map       pos ref alt\n",
       "0            M288   24    0   2649694   G   T\n",
       "1            M236   24    0   2649696   C   G\n",
       "2        FGC17344   24    0   2650033   G   A\n",
       "3          MF2464   24    0   2650045   A   G\n",
       "4         Z21583^   24    0   2650102   C   A\n",
       "...           ...  ...  ...       ...  ..  ..\n",
       "73675  BY151778^^   24    0  28804842   G   T\n",
       "73676        ZW09   24    0  28804948   A   T\n",
       "73677      Z16041   24    0  28804953   G   A\n",
       "73678  FT213868^^   24    0  28807842   T   C\n",
       "73679    FT106477   24    0  28811597   G   A\n",
       "\n",
       "[73680 rows x 6 columns]"
      ]
     },
     "execution_count": 38,
     "metadata": {},
     "output_type": "execute_result"
    }
   ],
   "source": [
    "df_snp"
   ]
  },
  {
   "cell_type": "code",
   "execution_count": 14,
   "metadata": {},
   "outputs": [
    {
     "data": {
      "text/html": [
       "<div>\n",
       "<style scoped>\n",
       "    .dataframe tbody tr th:only-of-type {\n",
       "        vertical-align: middle;\n",
       "    }\n",
       "\n",
       "    .dataframe tbody tr th {\n",
       "        vertical-align: top;\n",
       "    }\n",
       "\n",
       "    .dataframe thead th {\n",
       "        text-align: right;\n",
       "    }\n",
       "</style>\n",
       "<table border=\"1\" class=\"dataframe\">\n",
       "  <thead>\n",
       "    <tr style=\"text-align: right;\">\n",
       "      <th></th>\n",
       "      <th>snp</th>\n",
       "      <th>chr</th>\n",
       "      <th>map</th>\n",
       "      <th>pos</th>\n",
       "      <th>ref</th>\n",
       "      <th>alt</th>\n",
       "    </tr>\n",
       "  </thead>\n",
       "  <tbody>\n",
       "    <tr>\n",
       "      <th>18477</th>\n",
       "      <td>A10158</td>\n",
       "      <td>24</td>\n",
       "      <td>0</td>\n",
       "      <td>8891051</td>\n",
       "      <td>C</td>\n",
       "      <td>T</td>\n",
       "    </tr>\n",
       "  </tbody>\n",
       "</table>\n",
       "</div>"
      ],
      "text/plain": [
       "          snp  chr  map      pos ref alt\n",
       "18477  A10158   24    0  8891051   C   T"
      ]
     },
     "execution_count": 14,
     "metadata": {},
     "output_type": "execute_result"
    }
   ],
   "source": [
    "idx = df_snp[\"snp\"].str.contains(\"A10158\")\n",
    "df_snp[idx]"
   ]
  },
  {
   "cell_type": "code",
   "execution_count": 27,
   "metadata": {},
   "outputs": [
    {
     "data": {
      "text/plain": [
       "72933"
      ]
     },
     "execution_count": 27,
     "metadata": {},
     "output_type": "execute_result"
    }
   ],
   "source": [
    "len(df_snp)"
   ]
  },
  {
   "cell_type": "code",
   "execution_count": 178,
   "metadata": {},
   "outputs": [],
   "source": [
    "df_merge = pd.merge(df_snp, df_snp0, on=\"pos\")"
   ]
  },
  {
   "cell_type": "code",
   "execution_count": 179,
   "metadata": {},
   "outputs": [
    {
     "data": {
      "text/plain": [
       "15302"
      ]
     },
     "execution_count": 179,
     "metadata": {},
     "output_type": "execute_result"
    }
   ],
   "source": [
    "len(df_merge)"
   ]
  },
  {
   "cell_type": "code",
   "execution_count": null,
   "metadata": {},
   "outputs": [],
   "source": []
  }
 ],
 "metadata": {
  "kernelspec": {
   "display_name": "Python 3",
   "language": "python",
   "name": "python3"
  },
  "language_info": {
   "codemirror_mode": {
    "name": "ipython",
    "version": 3
   },
   "file_extension": ".py",
   "mimetype": "text/x-python",
   "name": "python",
   "nbconvert_exporter": "python",
   "pygments_lexer": "ipython3",
   "version": "3.7.4"
  }
 },
 "nbformat": 4,
 "nbformat_minor": 4
}
