{
 "cells": [
  {
   "cell_type": "code",
   "execution_count": 136,
   "metadata": {},
   "outputs": [
    {
     "name": "stdout",
     "output_type": "stream",
     "text": [
      "compute-a-16-166.o2.rc.hms.harvard.edu\n",
      "HSM Computational partition detected.\n",
      "/n/groups/reich/hringbauer/git/y_chrom\n",
      "CPU Count: 32\n",
      "3.7.4 (default, Sep 11 2019, 11:24:51) \n",
      "[GCC 6.2.0]\n"
     ]
    }
   ],
   "source": [
    "import numpy as np\n",
    "import os  # For Saving to Folder\n",
    "import pandas as pd\n",
    "import matplotlib.pyplot as plt\n",
    "\n",
    "import socket\n",
    "import os as os\n",
    "import sys as sys\n",
    "import multiprocessing as mp\n",
    "\n",
    "### For Arial Font\n",
    "from matplotlib import rcParams\n",
    "rcParams['font.family'] = 'sans-serif'   # Set the defaul\n",
    "### Make sure to have the font installed (it is on cluster for Harald)\n",
    "rcParams['font.sans-serif'] = ['Arial']\n",
    "\n",
    "socket_name = socket.gethostname()\n",
    "print(socket_name)\n",
    "\n",
    "if socket_name.startswith(\"compute-\"):\n",
    "    print(\"HSM Computational partition detected.\")\n",
    "    path = \"/n/groups/reich/hringbauer/git/y_chrom/\"  # The Path on Midway Cluster\n",
    "else:\n",
    "    raise RuntimeWarning(\"Not compatible machine. Check!!\")\n",
    "\n",
    "os.chdir(path)  # Set the right Path (in line with Atom default)\n",
    "# Show the current working directory. Should be HAPSBURG/Notebooks/ParallelRuns\n",
    "print(os.getcwd())\n",
    "print(f\"CPU Count: {mp.cpu_count()}\")\n",
    "print(sys.version)"
   ]
  },
  {
   "cell_type": "markdown",
   "metadata": {},
   "source": [
    "### Load all ISOGG Y SNPs"
   ]
  },
  {
   "cell_type": "code",
   "execution_count": 143,
   "metadata": {},
   "outputs": [],
   "source": [
    "path_snps = \"./data/all_snps.csv\"\n",
    "col_pos = 'Build 37 Number'\n",
    "\n",
    "def create_df_y_all(path_snps = \"./data/all_snps.csv\", \n",
    "                    col_pos = 'Build 37 Number'):\n",
    "    \"\"\"Return Dataframe in Eigenstrat Format,\n",
    "    filtered for biallelic SNPs\"\"\"\n",
    "    df_raw = pd.read_csv(path_snps)\n",
    "    print(f\"Loaded {len(df_raw)} SNPs\")\n",
    "\n",
    "    ### Process the positions\n",
    "    pos = df_raw[col_pos]\n",
    "    df_raw[\"pos\"] = pd.to_numeric(pos, errors=\"coerce\")\n",
    "\n",
    "    idx = ~df_raw[\"pos\"].isna()\n",
    "    print(f\"# Positions available: {np.sum(idx)}\")\n",
    "    df = df_raw[idx].reset_index(drop=True)\n",
    "    df[\"pos\"]=df[\"pos\"].astype(\"int\")\n",
    "\n",
    "    idx_bi= (df[\"Mutation Info\"].str.len()==4)\n",
    "    print(f\"# Biallelic SNPs: {np.sum(idx_bi)}\")\n",
    "    df = df[idx_bi].reset_index(drop=True)\n",
    "    df[\"ref\"] = df[\"Mutation Info\"].str[0]\n",
    "    df[\"alt\"] = df[\"Mutation Info\"].str[3]\n",
    "    df[\"map\"] = 0\n",
    "    df[\"chrom\"] = 24\n",
    "\n",
    "    cols = [\"Name\", \"chrom\", \"map\", \"pos\", \"ref\", \"alt\"]\n",
    "    df = df[cols]\n",
    "    df = df.replace(regex=[' ','\\n'], value='_')\n",
    "    ### Sort by position\n",
    "    df = df.sort_values(by=\"pos\")\n",
    "    \n",
    "    ### Keep only SNPs where Ref and Alt Different\n",
    "    idx_same = (df[\"ref\"]==df[\"alt\"])\n",
    "    df = df[~idx_same]\n",
    "    print(f\"# Ref & Alt different: {len(df)}\")\n",
    "    \n",
    "    ### Keep only ACTG\n",
    "    snps_acceptable = [\"A\", \"C\", \"T\", \"G\"]\n",
    "    idx_ref = df[\"ref\"].isin(snps_acceptable)\n",
    "    idx_alt = df[\"alt\"].isin(snps_acceptable)\n",
    "    idx_both = idx_ref & idx_alt\n",
    "    df = df[idx_both]\n",
    "    print(f\"# Ref & Alt ACTG: {len(df)}\")\n",
    "    \n",
    "    ### Keep Unique Values\n",
    "    idx_dup = df.duplicated(subset=\"pos\", keep=\"first\")\n",
    "    df = df[~idx_dup]\n",
    "    print(f\"# Unique SNP positions: {len(df)}\")\n",
    "    return df\n",
    "\n",
    "\n",
    "def save_eigenstrat(df_save, path_save = \"./data/eigenstrat/y_snps_all2020.snp\"):\n",
    "    \"\"\"Save Eigenstrat Dataframe\"\"\"\n",
    "    assert(len(df_save.columns)==6)\n",
    "    df_save.to_csv(path_save, sep=\" \", header=None, index=False)\n",
    "    print(f\"Saved {len(df_save)} Y SNPs to {path_save}\")"
   ]
  },
  {
   "cell_type": "code",
   "execution_count": 171,
   "metadata": {},
   "outputs": [
    {
     "name": "stdout",
     "output_type": "stream",
     "text": [
      "Loaded 92035 SNPs\n",
      "# Positions available: 91881\n",
      "# Biallelic SNPs: 91814\n",
      "# Ref & Alt different: 91811\n",
      "# Ref & Alt ACTG: 91806\n",
      "# Unique SNP positions: 72951\n",
      "CPU times: user 1.46 s, sys: 13.5 ms, total: 1.47 s\n",
      "Wall time: 1.47 s\n"
     ]
    }
   ],
   "source": [
    "%%time\n",
    "df_save = create_df_y_all(path_snps = \"./data/all_snps.csv\", col_pos = 'Build 37 Number')"
   ]
  },
  {
   "cell_type": "markdown",
   "metadata": {},
   "source": [
    "### Save Eigenstrat"
   ]
  },
  {
   "cell_type": "code",
   "execution_count": 172,
   "metadata": {},
   "outputs": [
    {
     "name": "stdout",
     "output_type": "stream",
     "text": [
      "Saved 72951 Y SNPs to ./data/eigenstrat/y_snps_all2020.snp\n"
     ]
    }
   ],
   "source": [
    "save_eigenstrat(df_save, path_save = \"./data/eigenstrat/y_snps_all2020.snp\")"
   ]
  },
  {
   "cell_type": "markdown",
   "metadata": {},
   "source": [
    "# Area 51"
   ]
  },
  {
   "cell_type": "markdown",
   "metadata": {},
   "source": [
    "### Load typical SNP file"
   ]
  },
  {
   "cell_type": "code",
   "execution_count": 173,
   "metadata": {},
   "outputs": [],
   "source": [
    "path_snp = \"/n/groups/reich/hringbauer/git/punic_aDNA/eigenstrat/punic0.v43.snp\"\n",
    "df_snp0 = pd.read_csv(path_snp, delim_whitespace=True, header=None)\n",
    "df_snp0.columns = [\"snp\", \"chr\", \"map\", \"pos\", \"ref\", \"alt\"]"
   ]
  },
  {
   "cell_type": "code",
   "execution_count": 174,
   "metadata": {},
   "outputs": [
    {
     "data": {
      "text/html": [
       "<div>\n",
       "<style scoped>\n",
       "    .dataframe tbody tr th:only-of-type {\n",
       "        vertical-align: middle;\n",
       "    }\n",
       "\n",
       "    .dataframe tbody tr th {\n",
       "        vertical-align: top;\n",
       "    }\n",
       "\n",
       "    .dataframe thead th {\n",
       "        text-align: right;\n",
       "    }\n",
       "</style>\n",
       "<table border=\"1\" class=\"dataframe\">\n",
       "  <thead>\n",
       "    <tr style=\"text-align: right;\">\n",
       "      <th></th>\n",
       "      <th>snp</th>\n",
       "      <th>chr</th>\n",
       "      <th>map</th>\n",
       "      <th>pos</th>\n",
       "      <th>ref</th>\n",
       "      <th>alt</th>\n",
       "    </tr>\n",
       "  </thead>\n",
       "  <tbody>\n",
       "    <tr>\n",
       "      <th>1233011</th>\n",
       "      <td>rs55686319</td>\n",
       "      <td>24</td>\n",
       "      <td>0.0</td>\n",
       "      <td>59033139</td>\n",
       "      <td>T</td>\n",
       "      <td>C</td>\n",
       "    </tr>\n",
       "    <tr>\n",
       "      <th>1233012</th>\n",
       "      <td>rs75089321</td>\n",
       "      <td>24</td>\n",
       "      <td>0.0</td>\n",
       "      <td>59033249</td>\n",
       "      <td>G</td>\n",
       "      <td>T</td>\n",
       "    </tr>\n",
       "  </tbody>\n",
       "</table>\n",
       "</div>"
      ],
      "text/plain": [
       "                snp  chr  map       pos ref alt\n",
       "1233011  rs55686319   24  0.0  59033139   T   C\n",
       "1233012  rs75089321   24  0.0  59033249   G   T"
      ]
     },
     "execution_count": 174,
     "metadata": {},
     "output_type": "execute_result"
    }
   ],
   "source": [
    "df_snp0.tail(2)"
   ]
  },
  {
   "cell_type": "markdown",
   "metadata": {},
   "source": [
    "### Load typical Eigenstrat File"
   ]
  },
  {
   "cell_type": "code",
   "execution_count": 175,
   "metadata": {},
   "outputs": [],
   "source": [
    "path_snp = \"/n/groups/reich/hringbauer/git/y_chrom/data/eigenstrat/y_snps_all2020.snp\"\n",
    "df_snp = pd.read_csv(path_snp, delim_whitespace=True, header=None)\n",
    "df_snp.columns = [\"snp\", \"chr\", \"map\", \"pos\", \"ref\", \"alt\"]"
   ]
  },
  {
   "cell_type": "code",
   "execution_count": 176,
   "metadata": {},
   "outputs": [
    {
     "data": {
      "text/html": [
       "<div>\n",
       "<style scoped>\n",
       "    .dataframe tbody tr th:only-of-type {\n",
       "        vertical-align: middle;\n",
       "    }\n",
       "\n",
       "    .dataframe tbody tr th {\n",
       "        vertical-align: top;\n",
       "    }\n",
       "\n",
       "    .dataframe thead th {\n",
       "        text-align: right;\n",
       "    }\n",
       "</style>\n",
       "<table border=\"1\" class=\"dataframe\">\n",
       "  <thead>\n",
       "    <tr style=\"text-align: right;\">\n",
       "      <th></th>\n",
       "      <th>snp</th>\n",
       "      <th>chr</th>\n",
       "      <th>map</th>\n",
       "      <th>pos</th>\n",
       "      <th>ref</th>\n",
       "      <th>alt</th>\n",
       "    </tr>\n",
       "  </thead>\n",
       "  <tbody>\n",
       "  </tbody>\n",
       "</table>\n",
       "</div>"
      ],
      "text/plain": [
       "Empty DataFrame\n",
       "Columns: [snp, chr, map, pos, ref, alt]\n",
       "Index: []"
      ]
     },
     "execution_count": 176,
     "metadata": {},
     "output_type": "execute_result"
    }
   ],
   "source": [
    "idx = df_snp[\"snp\"].str.contains(\"Z18345\")\n",
    "df_snp[idx]"
   ]
  },
  {
   "cell_type": "code",
   "execution_count": 177,
   "metadata": {},
   "outputs": [
    {
     "data": {
      "text/plain": [
       "72951"
      ]
     },
     "execution_count": 177,
     "metadata": {},
     "output_type": "execute_result"
    }
   ],
   "source": [
    "len(df_snp)"
   ]
  },
  {
   "cell_type": "code",
   "execution_count": 178,
   "metadata": {},
   "outputs": [],
   "source": [
    "df_merge = pd.merge(df_snp, df_snp0, on=\"pos\")"
   ]
  },
  {
   "cell_type": "code",
   "execution_count": 179,
   "metadata": {},
   "outputs": [
    {
     "data": {
      "text/plain": [
       "15302"
      ]
     },
     "execution_count": 179,
     "metadata": {},
     "output_type": "execute_result"
    }
   ],
   "source": [
    "len(df_merge)"
   ]
  },
  {
   "cell_type": "code",
   "execution_count": null,
   "metadata": {},
   "outputs": [],
   "source": []
  }
 ],
 "metadata": {
  "kernelspec": {
   "display_name": "Python 3",
   "language": "python",
   "name": "python3"
  },
  "language_info": {
   "codemirror_mode": {
    "name": "ipython",
    "version": 3
   },
   "file_extension": ".py",
   "mimetype": "text/x-python",
   "name": "python",
   "nbconvert_exporter": "python",
   "pygments_lexer": "ipython3",
   "version": "3.7.4"
  }
 },
 "nbformat": 4,
 "nbformat_minor": 4
}
