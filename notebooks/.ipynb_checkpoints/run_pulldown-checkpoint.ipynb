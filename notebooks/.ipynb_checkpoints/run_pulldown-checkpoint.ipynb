{
 "cells": [
  {
   "cell_type": "code",
   "execution_count": 56,
   "metadata": {},
   "outputs": [
    {
     "name": "stdout",
     "output_type": "stream",
     "text": [
      "compute-a-16-166.o2.rc.hms.harvard.edu\n",
      "HSM Computational partition detected.\n",
      "/n/groups/reich/hringbauer/git/y_chrom\n",
      "CPU Count: 32\n",
      "3.7.4 (default, Sep 11 2019, 11:24:51) \n",
      "[GCC 6.2.0]\n"
     ]
    }
   ],
   "source": [
    "import numpy as np\n",
    "import os  # For Saving to Folder\n",
    "import pandas as pd\n",
    "import matplotlib.pyplot as plt\n",
    "\n",
    "import socket\n",
    "import os as os\n",
    "import sys as sys\n",
    "import multiprocessing as mp\n",
    "\n",
    "### For Arial Font\n",
    "from matplotlib import rcParams\n",
    "rcParams['font.family'] = 'sans-serif'   # Set the defaul\n",
    "### Make sure to have the font installed (it is on cluster for Harald)\n",
    "rcParams['font.sans-serif'] = ['Arial']\n",
    "\n",
    "socket_name = socket.gethostname()\n",
    "print(socket_name)\n",
    "\n",
    "if socket_name.startswith(\"compute-\"):\n",
    "    print(\"HSM Computational partition detected.\")\n",
    "    path = \"/n/groups/reich/hringbauer/git/y_chrom/\"  # The Path on Midway Cluster\n",
    "else:\n",
    "    raise RuntimeWarning(\"Not compatible machine. Check!!\")\n",
    "\n",
    "os.chdir(path)  # Set the right Path (in line with Atom default)\n",
    "# Show the current working directory. Should be HAPSBURG/Notebooks/ParallelRuns\n",
    "print(os.getcwd())\n",
    "print(f\"CPU Count: {mp.cpu_count()}\")\n",
    "print(sys.version)"
   ]
  },
  {
   "cell_type": "markdown",
   "metadata": {},
   "source": [
    "### Define Parameters for param file"
   ]
  },
  {
   "cell_type": "code",
   "execution_count": 54,
   "metadata": {},
   "outputs": [],
   "source": [
    "def create_parfile_from_ref(df, iid,\n",
    "                            par_dc, \n",
    "                            savepath=\"/n/groups/reich/hringbauer/git/y_chrom/parfiles/\"):\n",
    "    \"\"\"Create a new parfile from reference dataframe df\n",
    "    iid: What individual to prepare\n",
    "    savepath: Where to save the new parfile to\"\"\"\n",
    "    bam_path = extram_bam_df(df, iid=iid)\n",
    "    \n",
    "    if os.path.isdir(bam_path):\n",
    "        bam_path = os.path.join(bam_path, \"*Y.bam\")  # Append the Y BAM\n",
    "        print(bam_path)\n",
    "    savepath = create_parfile(par_dc, sample=iid, bam_path=bam_path,\n",
    "                   savepath=savepath)\n",
    "    return savepath\n",
    "\n",
    "def create_parfile(par_dc, sample=\"test\", bam_path=\"\", \n",
    "                   savepath=\"/n/groups/reich/hringbauer/git/y_chrom/parfiles/\"):\n",
    "    \"\"\"Creates parfile from dictonary of Parameters\n",
    "    savepath: Where to save the parifle to\"\"\"\n",
    "    ### Modify Parameter Dictionary\n",
    "    par_dc[\"SAMP\"] = sample\n",
    "    par_dc[\"bamname\"] = bam_path\n",
    "    \n",
    "    ### Save to File\n",
    "    savepath = os.path.join(savepath,sample)\n",
    "    with open(savepath,\"w\") as f:\n",
    "        for k, v in par_dc.items():        \n",
    "            f.write(f\"{k}: {v}\\n\")\n",
    "    print(f\"Successfully saved to {savepath}\")\n",
    "    return savepath\n",
    "    \n",
    "def run_pulldown_y(path_parfile, path_bin = \"./scripts/pulldown\", output=True):\n",
    "    \"\"\"Run Pulldown via par file.\n",
    "    path_parfile: Which parfile to run\n",
    "    path_bin: Where to find the binary to run it\"\"\"\n",
    "    if output:\n",
    "        ! $path_bin -p $path_parfile\n",
    "    else:\n",
    "        ! $path_bin -p $path_parfile  > /dev/null\n",
    "    \n",
    "def extram_bam_df(df, iid,\n",
    "                 col_id = 'Instance ID (\"_all\" means includes a mix of UDG-treated and non-UDG-treated; \"_published\" distinguishes a published sample for a still-unpublished higher quality version)', \n",
    "                 col_bam='Data: autosomal bam'):\n",
    "    \"\"\"Return bam Path from Meta File\"\"\"\n",
    "    idx = (df[col_id]==iid)\n",
    "    assert(np.sum(idx)>0) \n",
    "    bam_path = df.loc[idx, col_bam].values[0]\n",
    "    return bam_path"
   ]
  },
  {
   "cell_type": "markdown",
   "metadata": {},
   "source": [
    "### Run for a single Individual"
   ]
  },
  {
   "cell_type": "code",
   "execution_count": 58,
   "metadata": {},
   "outputs": [],
   "source": [
    "### Default Parameter Dictionary\n",
    "par_dc = {\"BASE\": \"/n/groups/reich/matt/pipeline/static\",\n",
    "          \"SAMP\": \"FILL_IN\",\n",
    "          \"D2\": \"./output\",\n",
    "          \"indivname\": \"/n/groups/reich/hringbauer/explore_ntbk/v42/V42.3/v42.3.ind\",\n",
    "          \"snpname\": \"/n/groups/reich/matt/pipeline/static/1240kSNP.snp\",\n",
    "          \"bamname\": \"FILL_IN\",\n",
    "          \"threshtable\": \"/n/groups/reich/matt/pipeline/static/pulldown_thresholds\",       \n",
    "          \"defstring\": \"capture_half\",\n",
    "          \"readbam\": \"/n/groups/reich/matt/pipeline/static/readbam\",\n",
    "          \"oldpullmode\": \"YES\",\n",
    "          \"sampname\": \"SAMP\",\n",
    "          \"printcount\": \"NO\",\n",
    "          \"majmode\": \"NO\",\n",
    "          \"rgonly\": \"NO\",\n",
    "          \"chrom\": \"24\",\n",
    "          \"readdepthname\": \"/n/groups/reich/hringbauer/git/y_chrom/output/SAMP.txt\"\n",
    "          }\n",
    "\n",
    "### The anno file to look stuff up in\n",
    "anno_path = \"/n/groups/reich/hringbauer/explore_ntbk/v42/V42.3/v42.3.anno\"\n",
    "df = pd.read_csv(anno_path, sep='\\t', low_memory=False)"
   ]
  },
  {
   "cell_type": "code",
   "execution_count": 59,
   "metadata": {},
   "outputs": [
    {
     "name": "stdout",
     "output_type": "stream",
     "text": [
      "/n/data1/hms/genetics/reich/1000Genomes/amh_samples/marcus2019_sardinia_samples/A-round1/B-fix/MA110/hg19/MA110.md_no1kgvar.bam.by_chr/*Y.bam\n",
      "Successfully saved to /n/groups/reich/hringbauer/git/y_chrom/parfiles/MA110\n",
      "parameter file: /n/groups/reich/hringbauer/git/y_chrom/parfiles/MA110\n",
      "BASE: /n/groups/reich/matt/pipeline/static\n",
      "SAMP: MA110\n",
      "D2: ./output\n",
      "indivname: /n/groups/reich/hringbauer/explore_ntbk/v42/V42.3/v42.3.ind\n",
      "snpname: /n/groups/reich/matt/pipeline/static/1240kSNP.snp\n",
      "bamname: /n/data1/hms/genetics/reich/1000Genomes/amh_samples/marcus2019_sardinia_samples/A-round1/B-fix/MA110/hg19/MA110.md_no1kgvar.bam.by_chr/*Y.bam\n",
      "threshtable: /n/groups/reich/matt/pipeline/static/pulldown_thresholds\n",
      "defstring: capture_half\n",
      "readbam: /n/groups/reich/matt/pipeline/static/readbam\n",
      "oldpullmode: YES\n",
      "sampname: MA110\n",
      "printcount: NO\n",
      "majmode: NO\n",
      "rgonly: NO\n",
      "chrom: 24\n",
      "readdepthname: /n/groups/reich/hringbauer/git/y_chrom/output/MA110.txt\n",
      "version: 2400\n",
      "majmode unset\n",
      "old pullmode\n",
      "seed: 110780316\n",
      "##start:paramfile\n",
      "BASE: /n/groups/reich/matt/pipeline/static\n",
      "SAMP: MA110\n",
      "D2: ./output\n",
      "indivname: /n/groups/reich/hringbauer/explore_ntbk/v42/V42.3/v42.3.ind\n",
      "snpname: /n/groups/reich/matt/pipeline/static/1240kSNP.snp\n",
      "bamname: /n/data1/hms/genetics/reich/1000Genomes/amh_samples/marcus2019_sardinia_samples/A-round1/B-fix/MA110/hg19/MA110.md_no1kgvar.bam.by_chr/*Y.bam\n",
      "threshtable: /n/groups/reich/matt/pipeline/static/pulldown_thresholds\n",
      "defstring: capture_half\n",
      "readbam: /n/groups/reich/matt/pipeline/static/readbam\n",
      "oldpullmode: YES\n",
      "sampname: SAMP\n",
      "printcount: NO\n",
      "majmode: NO\n",
      "rgonly: NO\n",
      "chrom: 24\n",
      "readdepthname: /n/groups/reich/hringbauer/git/y_chrom/output/SAMP.txt\n",
      "##end:paramfile\n",
      "##start:threshtable\n",
      "##             X      map      basequal        depth    skip  paired\n",
      "         ancient2  30  999  20  999   0  999  5  0\n",
      "         ancient  30  999  30  999   0  99  2  0\n",
      "         capture  10  999  20  999   0  99  2  0\n",
      "         capture_minus  10  999  20  999   0  99  10  0\n",
      "         capture_half  10  999  20  999   0  99  2  0\n",
      "         capture_plus  10  999  20  999   0  99  0  0\n",
      "##end:threshtable\n",
      "udgtype: -1\n",
      "bam_database: (null)\n",
      "number of valid snps: 32670\n",
      "sample MA110 is male\n",
      "numsnps: 1233013  numindivs:  1\n",
      "reference: /n//groups/reich/reference-genomes/human_hg19/human_g1k_hs37d5/unzipped/hs37d5.fa\n",
      "polymask: /home/np29/broaddatax/tables/1Kpoly.fa\n",
      "default thresholds set for MA110 (using capture_half)\n",
      "threshtable: /n/groups/reich/matt/pipeline/static/pulldown_thresholds loaded\n",
      "poplist:  0           MA110  10 999    20 999    0  99    2   0\n",
      "+++ reg 24 loaded;  length 59373566\n",
      "+++ polymask 24 loaded;  length 59373566\n",
      "/home/np29/o2bin/samtools view /n/data1/hms/genetics/reich/1000Genomes/amh_samples/marcus2019_sardinia_samples/A-round1/B-fix/MA110/hg19/MA110.md_no1kgvar.bam.by_chr/*Y.bam Y \n",
      "triallelic: 453\n",
      "rawreads: 97600\n",
      "reg: 24  reads: 97600\n",
      "chrom 24 processed\n",
      "               MA110 Italy_Sardinia_BA_Nuragic mean depth:     2.326783 coverage: 21682\n",
      "histogram of read return codes\n",
      "read return code   -5 ::     27324\n",
      "read return code   -2 ::     11172\n",
      "read return code   -1 ::      1062\n",
      "read return code    1 ::     58042\n",
      "total: 97600\n",
      "\n",
      "## total reads: 97600  long reads: 0\n",
      "*** warning output snpname NULL\n",
      "snpname: (null) 1233013\n",
      "indname:  (null) 1\n",
      "gname: (null)\n",
      "eigenstrat output\n",
      "valid genotypes 21682 invalids 0\n",
      "\n",
      "##end of pulldown:       10.170 seconds cpu      759.505 Mbytes in use\n",
      "CPU times: user 271 ms, sys: 37.8 ms, total: 308 ms\n",
      "Wall time: 10.6 s\n"
     ]
    }
   ],
   "source": [
    "%%time\n",
    "### Create a parfile to run\n",
    "savepath = create_parfile_from_ref(df=df, \n",
    "                                   iid=\"MA110\",  #I10266\n",
    "                                   par_dc=par_dc)\n",
    "### Produce Lots of Output (toggled)\n",
    "run_pulldown_y(path_parfile=savepath)"
   ]
  },
  {
   "cell_type": "markdown",
   "metadata": {},
   "source": [
    "### Do Multiple Individuals"
   ]
  },
  {
   "cell_type": "code",
   "execution_count": 32,
   "metadata": {},
   "outputs": [
    {
     "name": "stdout",
     "output_type": "stream",
     "text": [
      "Doing SEC002\n",
      "/n/data1/hms/genetics/reich/1000Genomes/amh_samples/marcus2019_sardinia_samples/A-round1/B-fix/SEC002/hg19/SEC002.md_no1kgvar.bam.by_chr/*Y.bam\n",
      "Successfully saved to /n/groups/reich/hringbauer/git/y_chrom/parfiles/SEC002\n",
      "/home/np29/o2bin/samtools view /n/data1/hms/genetics/reich/1000Genomes/amh_samples/marcus2019_sardinia_samples/A-round1/B-fix/SEC002/hg19/SEC002.md_no1kgvar.bam.by_chr/*Y.bam Y \n"
     ]
    }
   ],
   "source": [
    "#iids = [\"I7116\", \"I7121\", \"I7120\"]  # African R1b\n",
    "#iids = [\"R6.SG\", \"I18872\", \"I15941\",\"I8016\",\"I6752\", \"I16339\", \"I14337\", \"I8057\", \"I7116\"] #R1b-V88 canditates\n",
    "iids = [\"SEC002\"]\n",
    "\n",
    "\n",
    "for iid in iids:\n",
    "    print(f\"Doing {iid}\")\n",
    "    savepath = create_parfile_from_ref(df=df, iid=iid,\n",
    "                            par_dc=par_dc)\n",
    "    \n",
    "    run_pulldown_y(path_parfile=savepath, output=False)"
   ]
  },
  {
   "cell_type": "markdown",
   "metadata": {},
   "source": [
    "# Run the Punic Individuals"
   ]
  },
  {
   "cell_type": "code",
   "execution_count": 6,
   "metadata": {},
   "outputs": [
    {
     "name": "stdout",
     "output_type": "stream",
     "text": [
      "Doing I7259\n",
      "/n/data1/hms/genetics/reich/1000Genomes/amh_samples/ancientMergeSets__CAPTURE/C-per_sample_versions/I7259/v0027.3__2017_12_07/merged/by_chr/*Y.bam\n",
      "Successfully saved to /n/groups/reich/hringbauer/git/y_chrom/parfiles/I7259\n",
      "/home/np29/o2bin/samtools view /n/data1/hms/genetics/reich/1000Genomes/amh_samples/ancientMergeSets__CAPTURE/C-per_sample_versions/I7259/v0027.3__2017_12_07/merged/by_chr/*Y.bam Y \n"
     ]
    }
   ],
   "source": [
    "#punic_df = pd.read_csv(\"../punic_aDNA/data/males_feb20.csv\")\n",
    "punic_df = pd.read_csv(\"../punic_aDNA/data/males_sic_feb20.csv\")\n",
    "\n",
    "male_punic_iids = punic_df.iloc[:,0].values\n",
    "\n",
    "for iid in male_punic_iids:\n",
    "    print(f\"Doing {iid}\")\n",
    "    savepath = create_parfile_from_ref(df=df, iid=iid,\n",
    "                            par_dc=par_dc)\n",
    "    \n",
    "    run_pulldown_y(path_parfile=savepath, output=False)"
   ]
  },
  {
   "cell_type": "markdown",
   "metadata": {},
   "source": [
    "# Run the big SNP set "
   ]
  },
  {
   "cell_type": "code",
   "execution_count": 60,
   "metadata": {},
   "outputs": [],
   "source": [
    "par_dc[\"snpname\"] =  \"/n/groups/reich/hringbauer/git/y_chrom/data/eigenstrat/y_snps_all2020.snp\"\n",
    "par_dc[\"readdepthname\"] = '/n/groups/reich/hringbauer/git/y_chrom/output/pulldowns_all/SAMP.txt'"
   ]
  },
  {
   "cell_type": "code",
   "execution_count": 61,
   "metadata": {},
   "outputs": [
    {
     "name": "stdout",
     "output_type": "stream",
     "text": [
      "/n/data1/hms/genetics/reich/1000Genomes/amh_samples/marcus2019_sardinia_samples/A-round1/B-fix/MA110/hg19/MA110.md_no1kgvar.bam.by_chr/*Y.bam\n",
      "Successfully saved to /n/groups/reich/hringbauer/git/y_chrom/parfiles/MA110\n",
      "parameter file: /n/groups/reich/hringbauer/git/y_chrom/parfiles/MA110\n",
      "BASE: /n/groups/reich/matt/pipeline/static\n",
      "SAMP: MA110\n",
      "D2: ./output\n",
      "indivname: /n/groups/reich/hringbauer/explore_ntbk/v42/V42.3/v42.3.ind\n",
      "snpname: /n/groups/reich/hringbauer/git/y_chrom/data/eigenstrat/y_snps_all2020.snp\n",
      "bamname: /n/data1/hms/genetics/reich/1000Genomes/amh_samples/marcus2019_sardinia_samples/A-round1/B-fix/MA110/hg19/MA110.md_no1kgvar.bam.by_chr/*Y.bam\n",
      "threshtable: /n/groups/reich/matt/pipeline/static/pulldown_thresholds\n",
      "defstring: capture_half\n",
      "readbam: /n/groups/reich/matt/pipeline/static/readbam\n",
      "oldpullmode: YES\n",
      "sampname: MA110\n",
      "printcount: NO\n",
      "majmode: NO\n",
      "rgonly: NO\n",
      "chrom: 24\n",
      "readdepthname: /n/groups/reich/hringbauer/git/y_chrom/output/pulldowns_all/MA110.txt\n",
      "version: 2400\n",
      "majmode unset\n",
      "old pullmode\n",
      "seed: 911363790\n",
      "##start:paramfile\n",
      "BASE: /n/groups/reich/matt/pipeline/static\n",
      "SAMP: MA110\n",
      "D2: ./output\n",
      "indivname: /n/groups/reich/hringbauer/explore_ntbk/v42/V42.3/v42.3.ind\n",
      "snpname: /n/groups/reich/hringbauer/git/y_chrom/data/eigenstrat/y_snps_all2020.snp\n",
      "bamname: /n/data1/hms/genetics/reich/1000Genomes/amh_samples/marcus2019_sardinia_samples/A-round1/B-fix/MA110/hg19/MA110.md_no1kgvar.bam.by_chr/*Y.bam\n",
      "threshtable: /n/groups/reich/matt/pipeline/static/pulldown_thresholds\n",
      "defstring: capture_half\n",
      "readbam: /n/groups/reich/matt/pipeline/static/readbam\n",
      "oldpullmode: YES\n",
      "sampname: SAMP\n",
      "printcount: NO\n",
      "majmode: NO\n",
      "rgonly: NO\n",
      "chrom: 24\n",
      "readdepthname: /n/groups/reich/hringbauer/git/y_chrom/output/pulldowns_all/SAMP.txt\n",
      "##end:paramfile\n",
      "##start:threshtable\n",
      "##             X      map      basequal        depth    skip  paired\n",
      "         ancient2  30  999  20  999   0  999  5  0\n",
      "         ancient  30  999  30  999   0  99  2  0\n",
      "         capture  10  999  20  999   0  99  2  0\n",
      "         capture_minus  10  999  20  999   0  99  10  0\n",
      "         capture_half  10  999  20  999   0  99  2  0\n",
      "         capture_plus  10  999  20  999   0  99  0  0\n",
      "##end:threshtable\n",
      "udgtype: -1\n",
      "bam_database: (null)\n",
      "/n/groups/reich/hringbauer/git/y_chrom/data/eigenstrat/y_snps_all2020.snp: genetic distance set from physical distance\n",
      "number of valid snps: 72951\n",
      "sample MA110 is male\n",
      "numsnps: 72951  numindivs:  1\n",
      "reference: /n//groups/reich/reference-genomes/human_hg19/human_g1k_hs37d5/unzipped/hs37d5.fa\n",
      "polymask: /home/np29/broaddatax/tables/1Kpoly.fa\n",
      "default thresholds set for MA110 (using capture_half)\n",
      "threshtable: /n/groups/reich/matt/pipeline/static/pulldown_thresholds loaded\n",
      "poplist:  0           MA110  10 999    20 999    0  99    2   0\n",
      "+++ reg 24 loaded;  length 59373566\n",
      "+++ polymask 24 loaded;  length 59373566\n",
      "/home/np29/o2bin/samtools view /n/data1/hms/genetics/reich/1000Genomes/amh_samples/marcus2019_sardinia_samples/A-round1/B-fix/MA110/hg19/MA110.md_no1kgvar.bam.by_chr/*Y.bam Y \n",
      "triallelic: 322\n",
      "rawreads: 97600\n",
      "reg: 24  reads: 97600\n",
      "chrom 24 processed\n",
      "               MA110 Italy_Sardinia_BA_Nuragic mean depth:     0.847500 coverage: 22611\n",
      "histogram of read return codes\n",
      "read return code -166 ::      1470\n",
      "read return code   -5 ::     39501\n",
      "read return code   -2 ::     11077\n",
      "read return code   -1 ::       942\n",
      "read return code    1 ::     44610\n",
      "total: 97600\n",
      "\n",
      "## total reads: 97600  long reads: 0\n",
      "*** warning output snpname NULL\n",
      "snpname: (null) 72951\n",
      "indname:  (null) 1\n",
      "gname: (null)\n",
      "eigenstrat output\n",
      "valid genotypes 22611 invalids 0\n",
      "\n",
      "##end of pulldown:        4.730 seconds cpu       46.809 Mbytes in use\n",
      "CPU times: user 123 ms, sys: 26 ms, total: 149 ms\n",
      "Wall time: 4.88 s\n"
     ]
    }
   ],
   "source": [
    "%%time\n",
    "### Create a parfile to run\n",
    "savepath = create_parfile_from_ref(df=df, \n",
    "                                   iid=\"MA110\",  #I10266\n",
    "                                   par_dc=par_dc)\n",
    "### Produce Lots of Output (toggled)\n",
    "run_pulldown_y(path_parfile=savepath)"
   ]
  },
  {
   "cell_type": "markdown",
   "metadata": {},
   "source": [
    "# Area 51"
   ]
  },
  {
   "cell_type": "code",
   "execution_count": null,
   "metadata": {},
   "outputs": [],
   "source": [
    "### Print old Parfile\n",
    "path = df1['Data: pulldown logfile location'].values[0]\n",
    "file = open(path,mode='r')\n",
    "txt = file.read()\n",
    "print(txt)"
   ]
  }
 ],
 "metadata": {
  "kernelspec": {
   "display_name": "Python 3",
   "language": "python",
   "name": "python3"
  },
  "language_info": {
   "codemirror_mode": {
    "name": "ipython",
    "version": 3
   },
   "file_extension": ".py",
   "mimetype": "text/x-python",
   "name": "python",
   "nbconvert_exporter": "python",
   "pygments_lexer": "ipython3",
   "version": "3.7.4"
  }
 },
 "nbformat": 4,
 "nbformat_minor": 4
}
