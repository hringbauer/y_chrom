{
 "cells": [
  {
   "cell_type": "markdown",
   "metadata": {},
   "source": [
    "# Functions and run the Y calling. Eventually put into Python package"
   ]
  },
  {
   "cell_type": "code",
   "execution_count": 2,
   "metadata": {},
   "outputs": [
    {
     "name": "stdout",
     "output_type": "stream",
     "text": [
      "compute-a-16-77.o2.rc.hms.harvard.edu\n",
      "HSM Computational partition detected.\n",
      "/n/groups/reich/hringbauer/git/y_chrom\n",
      "CPU Count: 32\n",
      "3.7.4 (default, Sep 11 2019, 11:24:51) \n",
      "[GCC 6.2.0]\n"
     ]
    }
   ],
   "source": [
    "import numpy as np\n",
    "import os  # For Saving to Folder\n",
    "import pandas as pd\n",
    "import matplotlib.pyplot as plt\n",
    "\n",
    "import socket\n",
    "import os as os\n",
    "import sys as sys\n",
    "import multiprocessing as mp\n",
    "\n",
    "# For Arial Font\n",
    "from matplotlib import rcParams\n",
    "rcParams['font.family'] = 'sans-serif'   # Set the defaul\n",
    "# Make sure to have the font installed (it is on cluster for Harald)\n",
    "rcParams['font.sans-serif'] = ['Arial']\n",
    "\n",
    "socket_name = socket.gethostname()\n",
    "print(socket_name)\n",
    "\n",
    "if socket_name.startswith(\"compute-\"):\n",
    "    print(\"HSM Computational partition detected.\")\n",
    "    path = \"/n/groups/reich/hringbauer/git/y_chrom/\"  # The Path on Midway Cluster\n",
    "else:\n",
    "    raise RuntimeWarning(\"Not compatible machine. Check!!\")\n",
    "\n",
    "os.chdir(path)  # Set the right Path (in line with Atom default)\n",
    "# Show the current working directory. Should be HAPSBURG/Notebooks/ParallelRuns\n",
    "print(os.getcwd())\n",
    "print(f\"CPU Count: {mp.cpu_count()}\")\n",
    "print(sys.version)"
   ]
  },
  {
   "cell_type": "code",
   "execution_count": 79,
   "metadata": {},
   "outputs": [],
   "source": [
    "################################################\n",
    "# Definitions to load Files (ISOGG and Output of Pulldown)\n",
    "\n",
    "def create_haplopath(haplogroup, rest=\"_data.csv\", haplo_folder=\"./data/isogg_19/\"):\n",
    "    \"\"\"Give back the full Path of Haplogroup data\"\"\"\n",
    "    assert(len(haplogroup) == 1)\n",
    "    path = haplo_folder + haplogroup + rest\n",
    "    return path\n",
    "\n",
    "def load_haplogroup_data(path, build=\"Build 37 #\"):\n",
    "    # Change path here depenging on what haplogroup!!!!\n",
    "    print(\"Loading: %s\" % path)\n",
    "    df_g = pd.read_csv(path, index_col=False, sep=\",\")\n",
    "    df_g = df_g.rename(columns={build: 'pos'})  # For merging\n",
    "    l = len(df_g)\n",
    "    df_g = df_g[pd.to_numeric(df_g['pos'], errors='coerce').notnull()]\n",
    "    df_g['pos'] = df_g['pos'].apply(pd.to_numeric)\n",
    "    print(\"Drop from %i to %i numerical pos rows\" % (l, len(df_g)))\n",
    "    return df_g\n",
    "\n",
    "def load_counts(path_counts, coerce=True):\n",
    "    \"\"\"Load Count file and return Dataframe\"\"\"\n",
    "    df_t = pd.read_csv(path_counts, header=None, delim_whitespace=True)\n",
    "    df_t.columns = [\"snp\", \"chr\", \"pos\", \"ref_all\", \"alt_all\",\"drop\",\"iid\",\"ref\", \"alt\"]\n",
    "    \n",
    "    if coerce:\n",
    "        for col in [\"pos\", \"ref\", \"alt\"]:\n",
    "            df_t[col] = pd.to_numeric(df_t[col], errors=\"coerce\")\n",
    "            \n",
    "    df_t = df_t.drop(columns=\"drop\")\n",
    "    return df_t\n",
    "\n",
    "################################################\n",
    "################################################\n",
    "# Functions to call Y\n",
    "\n",
    "def call_ind(df_counts, df_isogg, individual=\"\", pos=[], \n",
    "             full=False, output=True):\n",
    "    \"\"\"Check individual against all markers in df_marker.\n",
    "    Return dataframe with calls and 3 additional summary stats\n",
    "    derived: Array whether ancestral allele is coded as dervied. (for r1b)\n",
    "    individual: For which Individual to do the call (if none given use all rows).\n",
    "    pos: List of specific SNPs for which to return calls (if none return all)\"\"\"\n",
    "\n",
    "    ### Filter raws with Individual!\n",
    "    if len(individual)>0:\n",
    "        df_counts = df_counts[df_counts[\"Individual\"]==individual]\n",
    "        \n",
    "    if output:\n",
    "        print(f\"Total rows of calls: {len(df_counts)}\")\n",
    "    \n",
    "    ### Merge the two dataframes on identical positions\n",
    "    df = pd.merge(df_counts, df_isogg, on=\"pos\")\n",
    "    df.drop_duplicates(subset=\"pos\", keep='first', inplace=True)\n",
    "    \n",
    "    flip =  df[\"alt_all\"]==df[\"Mutation info\"].str[0]\n",
    "    df.loc[flip,[\"ref\", \"alt\", \"ref_all\", \"alt_all\"]]= df[[\"alt\",\"ref\", \"alt_all\", \"ref_all\"]][flip].values\n",
    "        \n",
    "    ### Extract only raws with more Alts than Refs\n",
    "    derived = (df[\"alt\"]>df[\"ref\"]) & (df[\"alt\"]>0)  # Derived Calls\n",
    "    tot_calls =  (df[\"ref\"]>0) | (df[\"alt\"]>0)       # At least one Calls\n",
    "    \n",
    "    if output==True:\n",
    "        print(f\"Markers found in Database {len(df)}\")\n",
    "        print(f\"Flipping {np.sum(flip)} SNPs for Alt Allele\")\n",
    "        print(f\"Markers witch calls {np.sum(tot_calls)}\")\n",
    "        print(f\"Frac. of Database SNPs covered: {np.sum(tot_calls) / len(df):.6f}\")\n",
    "        print(f\"Markers derived: {np.sum(derived)}\")\n",
    "    \n",
    "    if full == False:    # Only call the derived Markers\n",
    "        df_call = df[derived]\n",
    "    \n",
    "    elif full == True:   # Report the whole Status\n",
    "        df_call = df\n",
    "    \n",
    "    df_call = df_call.sort_values(by=\"Haplogroup\")\n",
    "    \n",
    "    ## Only return selected Positions if needed\n",
    "    if len(pos)>0:\n",
    "        idx = df_call[\"pos\"].isin(pos)\n",
    "        df_call = df_call[idx]\n",
    "    \n",
    "    return df_call.copy(), np.sum(derived), np.sum(tot_calls), len(df)\n",
    "\n",
    "################################################\n",
    "################################################\n",
    "# Functions to plot Y calls\n",
    "\n",
    "def pull_clade(df, haplogroup, exact=True):\n",
    "    \"\"\"Pulls a specific clade. \n",
    "    if exact=True: Has to match the exact haplogroup\"\"\"\n",
    "    if exact:\n",
    "        df_t = df[df[\"Haplogroup\"]==haplogroup]\n",
    "    else:\n",
    "        df_t = df[df[\"Haplogroup\"].str.contains(haplogroup)]\n",
    "    return df_t"
   ]
  },
  {
   "cell_type": "markdown",
   "metadata": {},
   "source": [
    "### Load ISOGG Reference Dictionary"
   ]
  },
  {
   "cell_type": "code",
   "execution_count": 4,
   "metadata": {},
   "outputs": [
    {
     "name": "stdout",
     "output_type": "stream",
     "text": [
      "Loading: ./data/isogg_19/o_data.csv\n",
      "Drop from 3459 to 3455 numerical pos rows\n",
      "Loading: ./data/isogg_19/d_data.csv\n",
      "Drop from 2595 to 2586 numerical pos rows\n",
      "Loading: ./data/isogg_19/g_data.csv\n",
      "Drop from 7503 to 7492 numerical pos rows\n",
      "Loading: ./data/isogg_19/i_data.csv\n",
      "Drop from 11246 to 11231 numerical pos rows\n",
      "Loading: ./data/isogg_19/r_data.csv\n",
      "Drop from 9763 to 9726 numerical pos rows\n",
      "Loading: ./data/isogg_19/j_data.csv\n",
      "Drop from 5947 to 5940 numerical pos rows\n",
      "Loading: ./data/isogg_19/t_data.csv\n",
      "Drop from 382 to 381 numerical pos rows\n",
      "Loading: ./data/isogg_19/e_data.csv\n",
      "Drop from 10478 to 10459 numerical pos rows\n",
      "Loading: ./data/isogg_19/h_data.csv\n",
      "Drop from 3140 to 3127 numerical pos rows\n",
      "Loading: ./data/isogg_19/c_data.csv\n",
      "Drop from 6862 to 6855 numerical pos rows\n",
      "Loading: ./data/isogg_19/l_data.csv\n",
      "Drop from 1154 to 1151 numerical pos rows\n",
      "Loading: ./data/isogg_19/n_data.csv\n",
      "Drop from 2952 to 2948 numerical pos rows\n",
      "Loading: ./data/isogg_19/p_data.csv\n",
      "Drop from 300 to 300 numerical pos rows\n",
      "Loading: ./data/isogg_19/q_data.csv\n",
      "Drop from 5377 to 5371 numerical pos rows\n"
     ]
    }
   ],
   "source": [
    "haplogroups = [\"o\", \"d\", \"g\", \"i\", \"r\", \"j\",\n",
    "               \"t\", \"e\", \"h\", \"c\", \"l\", \"n\", \"p\", \"q\"]\n",
    "haplo_paths = [create_haplopath(\n",
    "    x, haplo_folder=\"./data/isogg_19/\") for x in haplogroups]\n",
    "df_groups = [load_haplogroup_data(p) for p in haplo_paths]\n",
    "\n",
    "dict_y_dfs = dict(zip(haplogroups, df_groups))   # Create Dictionary\n",
    "# dict_y_dfs['all'] = pd.concat(df_groups)   # Add the combined one"
   ]
  },
  {
   "cell_type": "markdown",
   "metadata": {},
   "source": [
    "## Call Individual Haplogroup\n",
    "(change Name here)"
   ]
  },
  {
   "cell_type": "code",
   "execution_count": 66,
   "metadata": {},
   "outputs": [
    {
     "data": {
      "text/plain": [
       "array(['I12517', 'I18193', 'I18199', 'I18202', 'I18194', 'I18201',\n",
       "       'I18189'], dtype=object)"
      ]
     },
     "execution_count": 66,
     "metadata": {},
     "output_type": "execute_result"
    }
   ],
   "source": [
    "punic_df = pd.read_csv(\"../punic_aDNA/data/males_feb20.csv\")\n",
    "punic_df.iloc[:,0].values"
   ]
  },
  {
   "cell_type": "code",
   "execution_count": 87,
   "metadata": {},
   "outputs": [
    {
     "name": "stdout",
     "output_type": "stream",
     "text": [
      "Total rows of calls: 32670\n",
      "Markers found in Database 1084\n",
      "Flipping 204 SNPs for Alt Allele\n",
      "Markers witch calls 42\n",
      "Frac. of Database SNPs covered: 0.038745\n",
      "Markers derived: 5\n"
     ]
    }
   ],
   "source": [
    "iid=\"I7121\"\n",
    "haplogroup = \"r\"\n",
    "\n",
    "path_counts = f\"./output/{iid}.txt\"\n",
    "df_counts = load_counts(path_counts)\n",
    "df_isogg = dict_y_dfs[haplogroup]\n",
    "df_call, _, _, _ = call_ind(df_counts, df_isogg, output=True, \n",
    "                            full=False)"
   ]
  },
  {
   "cell_type": "code",
   "execution_count": 88,
   "metadata": {},
   "outputs": [
    {
     "data": {
      "text/html": [
       "<div>\n",
       "<style scoped>\n",
       "    .dataframe tbody tr th:only-of-type {\n",
       "        vertical-align: middle;\n",
       "    }\n",
       "\n",
       "    .dataframe tbody tr th {\n",
       "        vertical-align: top;\n",
       "    }\n",
       "\n",
       "    .dataframe thead th {\n",
       "        text-align: right;\n",
       "    }\n",
       "</style>\n",
       "<table border=\"1\" class=\"dataframe\">\n",
       "  <thead>\n",
       "    <tr style=\"text-align: right;\">\n",
       "      <th></th>\n",
       "      <th>snp</th>\n",
       "      <th>chr</th>\n",
       "      <th>pos</th>\n",
       "      <th>ref_all</th>\n",
       "      <th>alt_all</th>\n",
       "      <th>iid</th>\n",
       "      <th>ref</th>\n",
       "      <th>alt</th>\n",
       "      <th>Name</th>\n",
       "      <th>Haplogroup</th>\n",
       "      <th>Other Names</th>\n",
       "      <th>rs #</th>\n",
       "      <th>Build 38 #</th>\n",
       "      <th>Mutation info</th>\n",
       "    </tr>\n",
       "  </thead>\n",
       "  <tbody>\n",
       "    <tr>\n",
       "      <th>271</th>\n",
       "      <td>rs35768594</td>\n",
       "      <td>24</td>\n",
       "      <td>7671535</td>\n",
       "      <td>C</td>\n",
       "      <td>T</td>\n",
       "      <td>I7121</td>\n",
       "      <td>0</td>\n",
       "      <td>1</td>\n",
       "      <td>F93</td>\n",
       "      <td>R1</td>\n",
       "      <td>M621; PF6114</td>\n",
       "      <td>rs35768594</td>\n",
       "      <td>7803494</td>\n",
       "      <td>C-&gt;T</td>\n",
       "    </tr>\n",
       "    <tr>\n",
       "      <th>555</th>\n",
       "      <td>rs73620075</td>\n",
       "      <td>24</td>\n",
       "      <td>13807475</td>\n",
       "      <td>C</td>\n",
       "      <td>A</td>\n",
       "      <td>I7121</td>\n",
       "      <td>0</td>\n",
       "      <td>1</td>\n",
       "      <td>FGC189</td>\n",
       "      <td>R1</td>\n",
       "      <td>Y305</td>\n",
       "      <td>rs73620075</td>\n",
       "      <td>11686769</td>\n",
       "      <td>C-&gt;A</td>\n",
       "    </tr>\n",
       "    <tr>\n",
       "      <th>553</th>\n",
       "      <td>rs113598050</td>\n",
       "      <td>24</td>\n",
       "      <td>13657777</td>\n",
       "      <td>T</td>\n",
       "      <td>C</td>\n",
       "      <td>I7121</td>\n",
       "      <td>0</td>\n",
       "      <td>1</td>\n",
       "      <td>L777</td>\n",
       "      <td>R1b1a1b</td>\n",
       "      <td>YSC0000248</td>\n",
       "      <td>rs113598050</td>\n",
       "      <td>11502101</td>\n",
       "      <td>T-&gt;C</td>\n",
       "    </tr>\n",
       "    <tr>\n",
       "      <th>215</th>\n",
       "      <td>snp_24_7266032</td>\n",
       "      <td>24</td>\n",
       "      <td>7266032</td>\n",
       "      <td>T</td>\n",
       "      <td>G</td>\n",
       "      <td>I7121</td>\n",
       "      <td>0</td>\n",
       "      <td>1</td>\n",
       "      <td>PF6287</td>\n",
       "      <td>R1b1b</td>\n",
       "      <td>NaN</td>\n",
       "      <td>rs752185125</td>\n",
       "      <td>7397991</td>\n",
       "      <td>T-&gt;G</td>\n",
       "    </tr>\n",
       "    <tr>\n",
       "      <th>235</th>\n",
       "      <td>snp_24_7366284</td>\n",
       "      <td>24</td>\n",
       "      <td>7366284</td>\n",
       "      <td>G</td>\n",
       "      <td>T</td>\n",
       "      <td>I7121</td>\n",
       "      <td>0</td>\n",
       "      <td>1</td>\n",
       "      <td>Y7771</td>\n",
       "      <td>R1b1b2a2a</td>\n",
       "      <td>NaN</td>\n",
       "      <td>NaN</td>\n",
       "      <td>7498243</td>\n",
       "      <td>G-&gt;T</td>\n",
       "    </tr>\n",
       "  </tbody>\n",
       "</table>\n",
       "</div>"
      ],
      "text/plain": [
       "                snp  chr       pos ref_all alt_all    iid  ref  alt    Name  \\\n",
       "271      rs35768594   24   7671535       C       T  I7121    0    1     F93   \n",
       "555      rs73620075   24  13807475       C       A  I7121    0    1  FGC189   \n",
       "553     rs113598050   24  13657777       T       C  I7121    0    1    L777   \n",
       "215  snp_24_7266032   24   7266032       T       G  I7121    0    1  PF6287   \n",
       "235  snp_24_7366284   24   7366284       G       T  I7121    0    1   Y7771   \n",
       "\n",
       "    Haplogroup   Other Names         rs # Build 38 # Mutation info  \n",
       "271         R1  M621; PF6114   rs35768594    7803494          C->T  \n",
       "555         R1          Y305   rs73620075   11686769          C->A  \n",
       "553    R1b1a1b    YSC0000248  rs113598050   11502101          T->C  \n",
       "215      R1b1b           NaN  rs752185125    7397991          T->G  \n",
       "235  R1b1b2a2a           NaN          NaN    7498243          G->T  "
      ]
     },
     "execution_count": 88,
     "metadata": {},
     "output_type": "execute_result"
    }
   ],
   "source": [
    "df_call[-50:]"
   ]
  },
  {
   "cell_type": "code",
   "execution_count": 82,
   "metadata": {},
   "outputs": [
    {
     "data": {
      "text/plain": [
       "37"
      ]
     },
     "execution_count": 82,
     "metadata": {},
     "output_type": "execute_result"
    }
   ],
   "source": [
    "len(pull_clade(df_call, \"R1b1b\", exact=True))"
   ]
  },
  {
   "cell_type": "markdown",
   "metadata": {},
   "source": [
    "# Run all Haplogroups"
   ]
  },
  {
   "cell_type": "code",
   "execution_count": null,
   "metadata": {},
   "outputs": [],
   "source": [
    "%%time\n",
    "iid=\"I16339\"\n",
    "for h in haplogroups:\n",
    "\n",
    "#print(f\"\\nCalling {haplogroup}\")\n",
    "    print(f\"\\nDoing Haplogroup: {h}\")\n",
    "    path_counts = f\"./output/{iid}.txt\"\n",
    "    df_counts = load_counts(path_counts)\n",
    "    df_isogg = dict_y_dfs[h]\n",
    "    df_call, _, _, _ = call_ind(df_counts, df_isogg, output=True, \n",
    "                                full=False)"
   ]
  },
  {
   "cell_type": "markdown",
   "metadata": {},
   "source": [
    "# Area 51"
   ]
  },
  {
   "cell_type": "code",
   "execution_count": 8,
   "metadata": {},
   "outputs": [],
   "source": [
    "df_t = load_counts(\"./output/I0410.txt\")"
   ]
  },
  {
   "cell_type": "code",
   "execution_count": 20,
   "metadata": {},
   "outputs": [
    {
     "data": {
      "text/plain": [
       "0"
      ]
     },
     "execution_count": 20,
     "metadata": {},
     "output_type": "execute_result"
    }
   ],
   "source": [
    "np.sum(df_t[\"ref\"]>0)"
   ]
  },
  {
   "cell_type": "code",
   "execution_count": 62,
   "metadata": {},
   "outputs": [
    {
     "data": {
      "text/plain": [
       "15"
      ]
     },
     "execution_count": 62,
     "metadata": {},
     "output_type": "execute_result"
    }
   ],
   "source": [
    "idx = df_isogg[\"Haplogroup\"]==\"R1b1a1b1b\"\n",
    "np.sum(idx)"
   ]
  },
  {
   "cell_type": "code",
   "execution_count": null,
   "metadata": {},
   "outputs": [],
   "source": []
  }
 ],
 "metadata": {
  "kernelspec": {
   "display_name": "Python 3",
   "language": "python",
   "name": "python3"
  },
  "language_info": {
   "codemirror_mode": {
    "name": "ipython",
    "version": 3
   },
   "file_extension": ".py",
   "mimetype": "text/x-python",
   "name": "python",
   "nbconvert_exporter": "python",
   "pygments_lexer": "ipython3",
   "version": "3.7.4"
  }
 },
 "nbformat": 4,
 "nbformat_minor": 4
}
