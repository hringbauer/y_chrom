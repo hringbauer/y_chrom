{
 "cells": [
  {
   "cell_type": "markdown",
   "metadata": {},
   "source": [
    "# Functions and run the Y calling. Eventually put into Python package"
   ]
  },
  {
   "cell_type": "code",
   "execution_count": 3,
   "metadata": {},
   "outputs": [
    {
     "name": "stdout",
     "output_type": "stream",
     "text": [
      "compute-a-16-162.o2.rc.hms.harvard.edu\n",
      "HSM Computational partition detected.\n",
      "/n/groups/reich/hringbauer/git/y_chrom\n",
      "CPU Count: 32\n",
      "3.7.4 (default, Sep 11 2019, 11:24:51) \n",
      "[GCC 6.2.0]\n"
     ]
    }
   ],
   "source": [
    "import numpy as np\n",
    "import os  # For Saving to Folder\n",
    "import pandas as pd\n",
    "import matplotlib.pyplot as plt\n",
    "\n",
    "import socket\n",
    "import os as os\n",
    "import sys as sys\n",
    "import multiprocessing as mp\n",
    "\n",
    "# For Arial Font\n",
    "from matplotlib import rcParams\n",
    "rcParams['font.family'] = 'sans-serif'   # Set the defaul\n",
    "# Make sure to have the font installed (it is on cluster for Harald)\n",
    "rcParams['font.sans-serif'] = ['Arial']\n",
    "\n",
    "socket_name = socket.gethostname()\n",
    "print(socket_name)\n",
    "\n",
    "if socket_name.startswith(\"compute-\"):\n",
    "    print(\"HSM Computational partition detected.\")\n",
    "    path = \"/n/groups/reich/hringbauer/git/y_chrom/\"  # The Path on Midway Cluster\n",
    "else:\n",
    "    raise RuntimeWarning(\"Not compatible machine. Check!!\")\n",
    "\n",
    "os.chdir(path)  # Set the right Path (in line with Atom default)\n",
    "# Show the current working directory. Should be HAPSBURG/Notebooks/ParallelRuns\n",
    "print(os.getcwd())\n",
    "print(f\"CPU Count: {mp.cpu_count()}\")\n",
    "print(sys.version)"
   ]
  },
  {
   "cell_type": "code",
   "execution_count": 4,
   "metadata": {},
   "outputs": [],
   "source": [
    "################################################\n",
    "# Definitions to load Files (ISOGG and Output of Pulldown)\n",
    "\n",
    "def create_haplopath(haplogroup, rest=\"_data.csv\", haplo_folder=\"./data/isogg_19/\"):\n",
    "    \"\"\"Give back the full Path of Haplogroup data\"\"\"\n",
    "    assert(len(haplogroup) == 1)\n",
    "    path = haplo_folder + haplogroup + rest\n",
    "    return path\n",
    "\n",
    "def load_haplogroup_data(path, build=\"Build 37 #\"):\n",
    "    # Change path here depenging on what haplogroup!!!!\n",
    "    print(\"Loading: %s\" % path)\n",
    "    df_g = pd.read_csv(path, index_col=False, sep=\",\")\n",
    "    df_g = df_g.rename(columns={build: 'pos'})  # For merging\n",
    "    l = len(df_g)\n",
    "    df_g = df_g[pd.to_numeric(df_g['pos'], errors='coerce').notnull()]\n",
    "    df_g['pos'] = df_g['pos'].apply(pd.to_numeric)\n",
    "    print(\"Drop from %i to %i numerical pos rows\" % (l, len(df_g)))\n",
    "    \n",
    "    \n",
    "    ### Keep Unique Values\n",
    "    idx_dup = df_g.duplicated(subset=\"pos\", keep=\"first\")\n",
    "    df_g = df_g[~idx_dup]\n",
    "    print(f\"# Unique SNP positions: {len(df_g)}\")\n",
    "    return df_g\n",
    "\n",
    "def load_counts(path_counts, coerce=True):\n",
    "    \"\"\"Load Count file and return Dataframe\"\"\"\n",
    "    df_t = pd.read_csv(path_counts, header=None, delim_whitespace=True)\n",
    "    df_t.columns = [\"snp\", \"chr\", \"pos\", \"ref_all\", \"alt_all\",\"drop\",\"iid\",\"ref\", \"alt\"]\n",
    "    \n",
    "    if coerce:\n",
    "        for col in [\"pos\", \"ref\", \"alt\"]:\n",
    "            df_t[col] = pd.to_numeric(df_t[col], errors=\"coerce\")\n",
    "            \n",
    "    df_t = df_t.drop(columns=\"drop\")\n",
    "    return df_t\n",
    "\n",
    "################################################\n",
    "################################################\n",
    "# Functions to call Y\n",
    "\n",
    "def call_ind(df_counts, df_isogg, individual=\"\", pos=[], \n",
    "             full=False, output=True):\n",
    "    \"\"\"Check individual against all markers in df_marker.\n",
    "    Return dataframe with calls and 3 additional summary stats\n",
    "    derived: Array whether ancestral allele is coded as dervied. (for r1b)\n",
    "    individual: For which Individual to do the call (if none given use all rows).\n",
    "    pos: List of specific SNPs for which to return calls (if none return all)\"\"\"\n",
    "\n",
    "    ### Filter raws with Individual!\n",
    "    if len(individual)>0:\n",
    "        df_counts = df_counts[df_counts[\"Individual\"]==individual]\n",
    "        \n",
    "    if output:\n",
    "        print(f\"Total rows of calls: {len(df_counts)}\")\n",
    "    \n",
    "    ### Merge the two dataframes on identical positions\n",
    "    df = pd.merge(df_counts, df_isogg, on=\"pos\")\n",
    "    df.drop_duplicates(subset=\"pos\", keep='first', inplace=True)\n",
    "    \n",
    "    flip =  df[\"alt_all\"]==df[\"Mutation info\"].str[0]\n",
    "    df.loc[flip,[\"ref\", \"alt\", \"ref_all\", \"alt_all\"]]= df[[\"alt\",\"ref\", \"alt_all\", \"ref_all\"]][flip].values\n",
    "        \n",
    "    ### Extract only raws with more Alts than Refs\n",
    "    derived = (df[\"alt\"]>df[\"ref\"]) & (df[\"alt\"]>0)  # Derived Calls\n",
    "    tot_calls =  (df[\"ref\"]>0) | (df[\"alt\"]>0)       # At least one Calls\n",
    "    \n",
    "    if output==True:\n",
    "        print(f\"Markers found in Database {len(df)}\")\n",
    "        print(f\"Flipping {np.sum(flip)} SNPs for Alt Allele\")\n",
    "        print(f\"Markers witch calls {np.sum(tot_calls)}\")\n",
    "        print(f\"Frac. of Database SNPs covered: {np.sum(tot_calls) / len(df):.6f}\")\n",
    "        print(f\"Markers derived: {np.sum(derived)}\")\n",
    "    \n",
    "    if full == False:    # Only call the derived Markers\n",
    "        df_call = df[derived]\n",
    "    \n",
    "    elif full == True:   # Report the whole Status\n",
    "        df_call = df\n",
    "    \n",
    "    df_call = df_call.sort_values(by=\"Haplogroup\")\n",
    "    \n",
    "    ## Only return selected Positions if needed\n",
    "    if len(pos)>0:\n",
    "        idx = df_call[\"pos\"].isin(pos)\n",
    "        df_call = df_call[idx]\n",
    "    \n",
    "    return df_call.copy(), np.sum(derived), np.sum(tot_calls), len(df)\n",
    "\n",
    "################################################\n",
    "################################################\n",
    "# Functions to plot Y calls\n",
    "\n",
    "def pull_clade(df, haplogroup, exact=True):\n",
    "    \"\"\"Pulls a specific clade. \n",
    "    if exact=True: Has to match the exact haplogroup\"\"\"\n",
    "    if exact:\n",
    "        df_t = df[df[\"Haplogroup\"]==haplogroup]\n",
    "    else:\n",
    "        df_t = df[df[\"Haplogroup\"].str.contains(haplogroup)]\n",
    "    return df_t"
   ]
  },
  {
   "cell_type": "markdown",
   "metadata": {},
   "source": [
    "### Load ISOGG Reference Dictionary"
   ]
  },
  {
   "cell_type": "code",
   "execution_count": 5,
   "metadata": {},
   "outputs": [
    {
     "name": "stdout",
     "output_type": "stream",
     "text": [
      "Loading: ./data/isogg_19/o_data.csv\n",
      "Drop from 3459 to 3455 numerical pos rows\n",
      "# Unique SNP positions: 3081\n",
      "Loading: ./data/isogg_19/d_data.csv\n",
      "Drop from 2595 to 2586 numerical pos rows\n",
      "# Unique SNP positions: 2176\n",
      "Loading: ./data/isogg_19/g_data.csv\n",
      "Drop from 7503 to 7492 numerical pos rows\n",
      "# Unique SNP positions: 6255\n",
      "Loading: ./data/isogg_19/i_data.csv\n",
      "Drop from 11246 to 11231 numerical pos rows\n",
      "# Unique SNP positions: 8937\n",
      "Loading: ./data/isogg_19/r_data.csv\n",
      "Drop from 9763 to 9726 numerical pos rows\n",
      "# Unique SNP positions: 7543\n",
      "Loading: ./data/isogg_19/j_data.csv\n",
      "Drop from 5947 to 5940 numerical pos rows\n",
      "# Unique SNP positions: 4370\n",
      "Loading: ./data/isogg_19/t_data.csv\n",
      "Drop from 382 to 381 numerical pos rows\n",
      "# Unique SNP positions: 317\n",
      "Loading: ./data/isogg_19/e_data.csv\n",
      "Drop from 10478 to 10459 numerical pos rows\n",
      "# Unique SNP positions: 8082\n",
      "Loading: ./data/isogg_19/h_data.csv\n",
      "Drop from 3140 to 3127 numerical pos rows\n",
      "# Unique SNP positions: 2800\n",
      "Loading: ./data/isogg_19/c_data.csv\n",
      "Drop from 6862 to 6855 numerical pos rows\n",
      "# Unique SNP positions: 5311\n",
      "Loading: ./data/isogg_19/l_data.csv\n",
      "Drop from 1154 to 1151 numerical pos rows\n",
      "# Unique SNP positions: 987\n",
      "Loading: ./data/isogg_19/n_data.csv\n",
      "Drop from 2952 to 2948 numerical pos rows\n",
      "# Unique SNP positions: 2154\n",
      "Loading: ./data/isogg_19/p_data.csv\n",
      "Drop from 300 to 300 numerical pos rows\n",
      "# Unique SNP positions: 130\n",
      "Loading: ./data/isogg_19/q_data.csv\n",
      "Drop from 5377 to 5371 numerical pos rows\n",
      "# Unique SNP positions: 4115\n",
      "Loading: ./data/all_snps.csv\n",
      "Drop from 92035 to 91881 numerical pos rows\n",
      "# Unique SNP positions: 73008\n"
     ]
    }
   ],
   "source": [
    "haplogroups = [\"o\", \"d\", \"g\", \"i\", \"r\", \"j\",\n",
    "               \"t\", \"e\", \"h\", \"c\", \"l\", \"n\", \"p\", \"q\"]\n",
    "haplo_paths = [create_haplopath(\n",
    "    x, haplo_folder=\"./data/isogg_19/\") for x in haplogroups]\n",
    "df_groups = [load_haplogroup_data(p) for p in haplo_paths]\n",
    "\n",
    "dict_y_dfs = dict(zip(haplogroups, df_groups))   # Create Dictionary\n",
    "dict_y_dfs['all'] = pd.concat(df_groups)   # Add the combined one\n",
    "\n",
    "### Load all ISOGG SNPs:\n",
    "df_isogg_full = load_haplogroup_data(\"./data/all_snps.csv\", build=\"Build 37 Number\")\n",
    "df_isogg_full[\"Mutation info\"] = df_isogg_full[\"Mutation Info\"]\n",
    "df_isogg_full[\"Haplogroup\"] = df_isogg_full[\"Subgroup Name\"]\n",
    "dict_y_dfs['full'] = df_isogg_full"
   ]
  },
  {
   "cell_type": "markdown",
   "metadata": {},
   "source": [
    "## Call Individual Haplogroup\n",
    "(change Name here)"
   ]
  },
  {
   "cell_type": "code",
   "execution_count": 26,
   "metadata": {},
   "outputs": [
    {
     "name": "stdout",
     "output_type": "stream",
     "text": [
      "Total rows of calls: 32670\n",
      "Markers found in Database 14635\n",
      "Flipping 958 SNPs for Alt Allele\n",
      "Markers witch calls 9739\n",
      "Frac. of Database SNPs covered: 0.665460\n",
      "Markers derived: 636\n"
     ]
    }
   ],
   "source": [
    "iid=\"MA110\"\n",
    "haplogroup = \"full\"\n",
    "\n",
    "path_counts = f\"./output/{iid}.txt\"\n",
    "df_counts = load_counts(path_counts)\n",
    "df_isogg = dict_y_dfs[haplogroup]\n",
    "df_call, _, _, _ = call_ind(df_counts, df_isogg, output=True, \n",
    "                            full=False)  # df_isogg"
   ]
  },
  {
   "cell_type": "code",
   "execution_count": null,
   "metadata": {},
   "outputs": [],
   "source": [
    "df_call[-50:]"
   ]
  },
  {
   "cell_type": "code",
   "execution_count": 25,
   "metadata": {},
   "outputs": [
    {
     "name": "stdout",
     "output_type": "stream",
     "text": [
      "Total rows of calls: 72951\n",
      "Markers found in Database 72951\n",
      "Flipping 10 SNPs for Alt Allele\n",
      "Markers witch calls 22611\n",
      "Frac. of Database SNPs covered: 0.309948\n",
      "Markers derived: 726\n"
     ]
    }
   ],
   "source": [
    "iid=\"MA110\"\n",
    "haplogroup = \"full\"\n",
    "\n",
    "path_counts = f\"./output/pulldowns_all/{iid}.txt\"\n",
    "df_counts = load_counts(path_counts)\n",
    "df_isogg = dict_y_dfs[haplogroup]\n",
    "df_call, _, _, _ = call_ind(df_counts, df_isogg, output=True, \n",
    "                            full=False)"
   ]
  },
  {
   "cell_type": "code",
   "execution_count": null,
   "metadata": {},
   "outputs": [],
   "source": [
    "df_call[-100:-50]"
   ]
  },
  {
   "cell_type": "code",
   "execution_count": null,
   "metadata": {},
   "outputs": [],
   "source": [
    "pull_clade(df_call, \"E1b1b1a\", exact=True)"
   ]
  },
  {
   "cell_type": "markdown",
   "metadata": {},
   "source": [
    "# Run all Haplogroups"
   ]
  },
  {
   "cell_type": "code",
   "execution_count": null,
   "metadata": {},
   "outputs": [],
   "source": [
    "%%time\n",
    "iid=\"MA110\"\n",
    "for h in haplogroups:\n",
    "\n",
    "#print(f\"\\nCalling {haplogroup}\")\n",
    "    print(f\"\\nDoing Haplogroup: {h}\")\n",
    "    path_counts = f\"./output/{iid}.txt\"\n",
    "    df_counts = load_counts(path_counts)\n",
    "    df_isogg = dict_y_dfs[h]\n",
    "    df_call, _, _, _ = call_ind(df_counts, df_isogg, output=True, \n",
    "                                full=False)"
   ]
  },
  {
   "cell_type": "markdown",
   "metadata": {},
   "source": [
    "# Area 51"
   ]
  },
  {
   "cell_type": "code",
   "execution_count": 82,
   "metadata": {},
   "outputs": [],
   "source": [
    "iid = \"MA89\"\n",
    "path_counts = f\"./output/{iid}.txt\"\n",
    "df_old = load_counts(path_counts)"
   ]
  },
  {
   "cell_type": "code",
   "execution_count": 83,
   "metadata": {},
   "outputs": [
    {
     "name": "stdout",
     "output_type": "stream",
     "text": [
      "Covered at least once: 3437\n"
     ]
    }
   ],
   "source": [
    "covered = np.sum((df_old[\"ref\"] + df_old[\"alt\"]) > 0)\n",
    "print(f\"Covered at least once: {np.sum(covered)}\")"
   ]
  },
  {
   "cell_type": "code",
   "execution_count": 84,
   "metadata": {},
   "outputs": [
    {
     "name": "stdout",
     "output_type": "stream",
     "text": [
      "Covered at least once: 2762\n"
     ]
    }
   ],
   "source": [
    "path_counts = f\"./output/pulldowns_all/{iid}.txt\"\n",
    "df_new = load_counts(path_counts)\n",
    "covered = np.sum((df_new[\"ref\"] + df_new[\"alt\"]) > 0)\n",
    "print(f\"Covered at least once: {np.sum(covered)}\")"
   ]
  },
  {
   "cell_type": "code",
   "execution_count": 55,
   "metadata": {},
   "outputs": [
    {
     "data": {
      "image/png": "[encoded data removed]",
      "text/plain": [
       "<Figure size 432x288 with 1 Axes>"
      ]
     },
     "metadata": {
      "needs_background": "light"
     },
     "output_type": "display_data"
    }
   ],
   "source": [
    "bins = np.linspace(-0.5, 10.5, 11)\n",
    "\n",
    "plt.figure()\n",
    "plt.hist(df_new[\"ref\"] + df_new[\"alt\"], bins=bins, ec=\"k\")\n",
    "plt.ylim([0,15000])\n",
    "plt.show()"
   ]
  },
  {
   "cell_type": "code",
   "execution_count": 56,
   "metadata": {},
   "outputs": [
    {
     "data": {
      "image/png": "[encoded data removed]",
      "text/plain": [
       "<Figure size 432x288 with 1 Axes>"
      ]
     },
     "metadata": {
      "needs_background": "light"
     },
     "output_type": "display_data"
    }
   ],
   "source": [
    "bins = np.linspace(-0.5, 10.5, 11)\n",
    "plt.figure()\n",
    "plt.hist(df_old[\"ref\"] + df_old[\"alt\"], bins=bins, ec=\"k\")\n",
    "plt.ylim([0,15000])\n",
    "plt.show()"
   ]
  },
  {
   "cell_type": "code",
   "execution_count": 89,
   "metadata": {},
   "outputs": [],
   "source": [
    "df_merge = pd.merge(df_old, df_new, on=\"pos\")"
   ]
  },
  {
   "cell_type": "code",
   "execution_count": null,
   "metadata": {},
   "outputs": [],
   "source": []
  }
 ],
 "metadata": {
  "kernelspec": {
   "display_name": "Python 3",
   "language": "python",
   "name": "python3"
  },
  "language_info": {
   "codemirror_mode": {
    "name": "ipython",
    "version": 3
   },
   "file_extension": ".py",
   "mimetype": "text/x-python",
   "name": "python",
   "nbconvert_exporter": "python",
   "pygments_lexer": "ipython3",
   "version": "3.7.4"
  }
 },
 "nbformat": 4,
 "nbformat_minor": 4
}
